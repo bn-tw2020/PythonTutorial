{
 "cells": [
  {
   "cell_type": "markdown",
   "metadata": {},
   "source": [
    "## 변수"
   ]
  },
  {
   "cell_type": "markdown",
   "metadata": {},
   "source": [
    "변수는 여러 가지 값으로 변하는 수를 의미한다\n",
    "b = a + 1처럼 문자와 숫자를 기호로 연결해서 계산하는 수식에서\n",
    "a가 10일때 b = 10 + 1로 11이 된다.\n",
    "\n",
    "프로그래밍에서 코드로 a = 10이라 작성하면 a에 10을 넣는다는 의미이다."
   ]
  },
  {
   "cell_type": "code",
   "execution_count": 1,
   "metadata": {},
   "outputs": [],
   "source": [
    "a = 10"
   ]
  },
  {
   "cell_type": "code",
   "execution_count": 2,
   "metadata": {},
   "outputs": [
    {
     "name": "stdout",
     "output_type": "stream",
     "text": [
      "10\n"
     ]
    }
   ],
   "source": [
    "print(a)"
   ]
  },
  {
   "cell_type": "code",
   "execution_count": 3,
   "metadata": {},
   "outputs": [
    {
     "name": "stdout",
     "output_type": "stream",
     "text": [
      "a\n",
      "10\n"
     ]
    }
   ],
   "source": [
    "a = 10\n",
    "print('a')\n",
    "print(a)"
   ]
  },
  {
   "cell_type": "code",
   "execution_count": 5,
   "metadata": {},
   "outputs": [
    {
     "name": "stdout",
     "output_type": "stream",
     "text": [
      "학생\n"
     ]
    }
   ],
   "source": [
    "b = \"학생\"\n",
    "print(b)"
   ]
  },
  {
   "cell_type": "code",
   "execution_count": 7,
   "metadata": {},
   "outputs": [
    {
     "name": "stdout",
     "output_type": "stream",
     "text": [
      "고등학생\n"
     ]
    }
   ],
   "source": [
    "b = \"학생\"\n",
    "c = \"고등\"\n",
    "print(c + b)"
   ]
  },
  {
   "cell_type": "code",
   "execution_count": 8,
   "metadata": {},
   "outputs": [
    {
     "name": "stdout",
     "output_type": "stream",
     "text": [
      "고등학생\n",
      "대학생\n"
     ]
    }
   ],
   "source": [
    "b = \"학생\"\n",
    "c = \"고등\"\n",
    "print(c + b)\n",
    "c = \"대\"\n",
    "print(c + b)"
   ]
  },
  {
   "cell_type": "code",
   "execution_count": 9,
   "metadata": {},
   "outputs": [
    {
     "name": "stdout",
     "output_type": "stream",
     "text": [
      "유리 175.5 비밀 programming\n"
     ]
    }
   ],
   "source": [
    "name = '유리'\n",
    "height = 175.5\n",
    "weight = '비밀'\n",
    "hobby = 'programming'\n",
    "print(name, height, weight, hobby)"
   ]
  },
  {
   "cell_type": "code",
   "execution_count": 10,
   "metadata": {},
   "outputs": [
    {
     "name": "stdout",
     "output_type": "stream",
     "text": [
      "유리 키는 175.5 , 몸무게는 비밀 , 취미는 programming 입니다!\n"
     ]
    }
   ],
   "source": [
    "print(name, '키는', height, ', 몸무게는', weight, ', 취미는', hobby, '입니다!')"
   ]
  },
  {
   "cell_type": "markdown",
   "metadata": {},
   "source": [
    "### format() 명령어를 이용"
   ]
  },
  {
   "cell_type": "code",
   "execution_count": 11,
   "metadata": {},
   "outputs": [
    {
     "name": "stdout",
     "output_type": "stream",
     "text": [
      "제임스 키는 186 , 몸무게는 80 , 취미는 요리하기 입니다!\n",
      "제임스 키는 186, 몸무게는 80, 취미는 요리하기입니다.\n"
     ]
    }
   ],
   "source": [
    "name = '제임스'\n",
    "height = 186\n",
    "weight = 80\n",
    "hobby = '요리하기'\n",
    "print(name, '키는', height, ', 몸무게는', weight, ', 취미는', hobby, '입니다!')\n",
    "print(\"{} 키는 {}, 몸무게는 {}, 취미는 {}입니다.\".format(name, height, weight, hobby))"
   ]
  },
  {
   "cell_type": "code",
   "execution_count": 12,
   "metadata": {},
   "outputs": [
    {
     "name": "stdout",
     "output_type": "stream",
     "text": [
      "원의 넓이 =  78.5398\n"
     ]
    }
   ],
   "source": [
    "p = 3.141592\n",
    "r = 5\n",
    "print('원의 넓이 = ', p * r ** 2)"
   ]
  },
  {
   "cell_type": "code",
   "execution_count": 14,
   "metadata": {},
   "outputs": [
    {
     "name": "stdout",
     "output_type": "stream",
     "text": [
      "78.5398\n"
     ]
    }
   ],
   "source": [
    "p = 3.141592\n",
    "r = 5\n",
    "result = p * r ** 2\n",
    "print(result)"
   ]
  },
  {
   "cell_type": "markdown",
   "metadata": {},
   "source": [
    "### 변수를 사용하는 이유\n",
    "\n",
    "변수를 만들어사용하면 코드도 길어지고 번거롭다고 느낄 것이다.\n",
    "하지만, 원의 넓이를 구한다고 생각해보자\n",
    "3.14라고 줄여서 표현하지만 실제로 긴 데이터를 일일이 기억하면서 사용하지 않을 수 있기에 변수를 사용하면 편리하다"
   ]
  },
  {
   "cell_type": "code",
   "execution_count": 16,
   "metadata": {},
   "outputs": [
    {
     "name": "stdout",
     "output_type": "stream",
     "text": [
      "원의 넓이 =  78.5398\n",
      "원의 둘레 =  31.41592\n",
      "구의 겉넓이 =  314.1592\n"
     ]
    }
   ],
   "source": [
    "p = 3.141592\n",
    "r = 5\n",
    "\n",
    "# 원의 넓이\n",
    "result1 = p * r ** 2\n",
    "print('원의 넓이 = ', result)\n",
    "\n",
    "# 원의 둘레\n",
    "result2 = 2* p * r\n",
    "print('원의 둘레 = ', result2)\n",
    "\n",
    "# 구의 겉넓이\n",
    "result3 = 4 * p * r ** 2\n",
    "print('구의 겉넓이 = ', result3)"
   ]
  },
  {
   "cell_type": "markdown",
   "metadata": {},
   "source": [
    "### 주석\n",
    "주석으로는 \"\"\"  \"\"\", #을 이용할 수 있다."
   ]
  },
  {
   "cell_type": "markdown",
   "metadata": {},
   "source": [
    "#### 예제"
   ]
  },
  {
   "cell_type": "code",
   "execution_count": 17,
   "metadata": {},
   "outputs": [
    {
     "name": "stdout",
     "output_type": "stream",
     "text": [
      "반지름은 ?999\n"
     ]
    },
    {
     "ename": "TypeError",
     "evalue": "unsupported operand type(s) for ** or pow(): 'str' and 'int'",
     "output_type": "error",
     "traceback": [
      "\u001b[0;31m---------------------------------------------------------------------------\u001b[0m",
      "\u001b[0;31mTypeError\u001b[0m                                 Traceback (most recent call last)",
      "\u001b[0;32m<ipython-input-17-a4d8898cd356>\u001b[0m in \u001b[0;36m<module>\u001b[0;34m\u001b[0m\n\u001b[1;32m      2\u001b[0m \u001b[0mr\u001b[0m \u001b[0;34m=\u001b[0m \u001b[0minput\u001b[0m\u001b[0;34m(\u001b[0m\u001b[0;34m'반지름은 ?'\u001b[0m\u001b[0;34m)\u001b[0m\u001b[0;34m\u001b[0m\u001b[0;34m\u001b[0m\u001b[0m\n\u001b[1;32m      3\u001b[0m \u001b[0;34m\u001b[0m\u001b[0m\n\u001b[0;32m----> 4\u001b[0;31m \u001b[0mresult1\u001b[0m \u001b[0;34m=\u001b[0m \u001b[0mp\u001b[0m \u001b[0;34m*\u001b[0m \u001b[0mr\u001b[0m \u001b[0;34m**\u001b[0m \u001b[0;36m2\u001b[0m\u001b[0;34m\u001b[0m\u001b[0;34m\u001b[0m\u001b[0m\n\u001b[0m\u001b[1;32m      5\u001b[0m \u001b[0mresult2\u001b[0m \u001b[0;34m=\u001b[0m \u001b[0;36m2\u001b[0m \u001b[0;34m*\u001b[0m \u001b[0mp\u001b[0m \u001b[0;34m*\u001b[0m \u001b[0mr\u001b[0m\u001b[0;34m\u001b[0m\u001b[0;34m\u001b[0m\u001b[0m\n\u001b[1;32m      6\u001b[0m \u001b[0mresult3\u001b[0m \u001b[0;34m=\u001b[0m \u001b[0;36m4\u001b[0m \u001b[0;34m*\u001b[0m \u001b[0mp\u001b[0m \u001b[0;34m*\u001b[0m \u001b[0mr\u001b[0m \u001b[0;34m**\u001b[0m \u001b[0;36m2\u001b[0m\u001b[0;34m\u001b[0m\u001b[0;34m\u001b[0m\u001b[0m\n",
      "\u001b[0;31mTypeError\u001b[0m: unsupported operand type(s) for ** or pow(): 'str' and 'int'"
     ]
    }
   ],
   "source": [
    "p = 3.141592\n",
    "r = input('반지름은 ?')\n",
    "\n",
    "result1 = p * r ** 2\n",
    "result2 = 2 * p * r\n",
    "result3 = 4 * p * r ** 2\n",
    "print('원의 넓이 = ', result, '원의 둘레 = ', result2, '구의 겉넓이 = ', result3)"
   ]
  },
  {
   "cell_type": "markdown",
   "metadata": {},
   "source": [
    "오류가 발생하는 이유는 input()으로 입력받으면 문자열로 받아들이기에 강제형변환을 해줘야한다."
   ]
  },
  {
   "cell_type": "code",
   "execution_count": 21,
   "metadata": {},
   "outputs": [
    {
     "name": "stdout",
     "output_type": "stream",
     "text": [
      "반지름은 ?999\n",
      "원의 넓이 =  78.5398 원의 둘레 =  6276.900816 구의 겉넓이 =  12541247.830368001\n"
     ]
    }
   ],
   "source": [
    "p = 3.141592\n",
    "r = int(input('반지름은 ?'))\n",
    "\n",
    "result1 = p * r ** 2\n",
    "result2 = 2 * p * r\n",
    "result3 = 4 * p * r ** 2\n",
    "print('원의 넓이 = ', result, '원의 둘레 = ', result2, '구의 겉넓이 = ', result3)"
   ]
  },
  {
   "cell_type": "markdown",
   "metadata": {},
   "source": [
    "변수명은 변수명을 보고만 무슨 값을 담고있는지 잘 정의해야한다."
   ]
  },
  {
   "cell_type": "code",
   "execution_count": 23,
   "metadata": {},
   "outputs": [
    {
     "name": "stdout",
     "output_type": "stream",
     "text": [
      "이름 : 고라니\n",
      "나이 : 4\n",
      "특징 : 애교가 많은 편\n",
      "고라니(4) 애교가 많은 편\n",
      "애교가 많은 편인 고라니\n"
     ]
    }
   ],
   "source": [
    "name = input('이름 : ')\n",
    "age = input('나이 : ')\n",
    "feature = input('특징 : ')\n",
    "print(name + '(' + age + ')', feature)\n",
    "print(feature + '인', name)"
   ]
  },
  {
   "cell_type": "code",
   "execution_count": 24,
   "metadata": {},
   "outputs": [
    {
     "name": "stdout",
     "output_type": "stream",
     "text": [
      "2017 년 - 175.5 cm\n"
     ]
    }
   ],
   "source": [
    "year = 2017\n",
    "height = 175.5\n",
    "print(year, '년 -', height, 'cm')"
   ]
  },
  {
   "cell_type": "code",
   "execution_count": 25,
   "metadata": {},
   "outputs": [
    {
     "name": "stdout",
     "output_type": "stream",
     "text": [
      "2018 년 - 185.5 cm\n"
     ]
    }
   ],
   "source": [
    "year = year + 1\n",
    "height = height + 10\n",
    "print(year, '년 -', height, 'cm')"
   ]
  },
  {
   "cell_type": "code",
   "execution_count": 26,
   "metadata": {},
   "outputs": [
    {
     "name": "stdout",
     "output_type": "stream",
     "text": [
      "2019 년 - 195.5 cm\n"
     ]
    }
   ],
   "source": [
    "year += 1\n",
    "height += 10\n",
    "print(year, '년 -', height, 'cm')"
   ]
  },
  {
   "cell_type": "code",
   "execution_count": 27,
   "metadata": {},
   "outputs": [
    {
     "name": "stdout",
     "output_type": "stream",
     "text": [
      "2020 년 - 205.5 cm\n"
     ]
    }
   ],
   "source": [
    "year += 1\n",
    "height += 10\n",
    "print(year, '년 -', height, 'cm')"
   ]
  },
  {
   "cell_type": "markdown",
   "metadata": {},
   "source": [
    "### 데이터 타입"
   ]
  },
  {
   "cell_type": "markdown",
   "metadata": {},
   "source": [
    "type()은 데이터 타입을 알려주는 명령어이다."
   ]
  },
  {
   "cell_type": "code",
   "execution_count": 28,
   "metadata": {},
   "outputs": [
    {
     "name": "stdout",
     "output_type": "stream",
     "text": [
      "<class 'float'>\n"
     ]
    }
   ],
   "source": [
    "height = 175.5\n",
    "print(type(height))"
   ]
  },
  {
   "cell_type": "code",
   "execution_count": 29,
   "metadata": {},
   "outputs": [
    {
     "name": "stdout",
     "output_type": "stream",
     "text": [
      "<class 'str'>\n"
     ]
    }
   ],
   "source": [
    "name = '제임스'\n",
    "print(type(name))"
   ]
  },
  {
   "cell_type": "code",
   "execution_count": 30,
   "metadata": {},
   "outputs": [
    {
     "name": "stdout",
     "output_type": "stream",
     "text": [
      "반지름은 ?999\n"
     ]
    },
    {
     "ename": "TypeError",
     "evalue": "unsupported operand type(s) for ** or pow(): 'str' and 'int'",
     "output_type": "error",
     "traceback": [
      "\u001b[0;31m---------------------------------------------------------------------------\u001b[0m",
      "\u001b[0;31mTypeError\u001b[0m                                 Traceback (most recent call last)",
      "\u001b[0;32m<ipython-input-30-a4d8898cd356>\u001b[0m in \u001b[0;36m<module>\u001b[0;34m\u001b[0m\n\u001b[1;32m      2\u001b[0m \u001b[0mr\u001b[0m \u001b[0;34m=\u001b[0m \u001b[0minput\u001b[0m\u001b[0;34m(\u001b[0m\u001b[0;34m'반지름은 ?'\u001b[0m\u001b[0;34m)\u001b[0m\u001b[0;34m\u001b[0m\u001b[0;34m\u001b[0m\u001b[0m\n\u001b[1;32m      3\u001b[0m \u001b[0;34m\u001b[0m\u001b[0m\n\u001b[0;32m----> 4\u001b[0;31m \u001b[0mresult1\u001b[0m \u001b[0;34m=\u001b[0m \u001b[0mp\u001b[0m \u001b[0;34m*\u001b[0m \u001b[0mr\u001b[0m \u001b[0;34m**\u001b[0m \u001b[0;36m2\u001b[0m\u001b[0;34m\u001b[0m\u001b[0;34m\u001b[0m\u001b[0m\n\u001b[0m\u001b[1;32m      5\u001b[0m \u001b[0mresult2\u001b[0m \u001b[0;34m=\u001b[0m \u001b[0;36m2\u001b[0m \u001b[0;34m*\u001b[0m \u001b[0mp\u001b[0m \u001b[0;34m*\u001b[0m \u001b[0mr\u001b[0m\u001b[0;34m\u001b[0m\u001b[0;34m\u001b[0m\u001b[0m\n\u001b[1;32m      6\u001b[0m \u001b[0mresult3\u001b[0m \u001b[0;34m=\u001b[0m \u001b[0;36m4\u001b[0m \u001b[0;34m*\u001b[0m \u001b[0mp\u001b[0m \u001b[0;34m*\u001b[0m \u001b[0mr\u001b[0m \u001b[0;34m**\u001b[0m \u001b[0;36m2\u001b[0m\u001b[0;34m\u001b[0m\u001b[0;34m\u001b[0m\u001b[0m\n",
      "\u001b[0;31mTypeError\u001b[0m: unsupported operand type(s) for ** or pow(): 'str' and 'int'"
     ]
    }
   ],
   "source": [
    "p = 3.141592\n",
    "r = input('반지름은 ?')\n",
    "\n",
    "result1 = p * r ** 2\n",
    "result2 = 2 * p * r\n",
    "result3 = 4 * p * r ** 2\n",
    "print('원의 넓이 = ', result, '원의 둘레 = ', result2, '구의 겉넓이 = ', result3)"
   ]
  },
  {
   "cell_type": "markdown",
   "metadata": {},
   "source": [
    "데이터타입을 배웠으니 위의 오류를 해결할 수있다."
   ]
  },
  {
   "cell_type": "markdown",
   "metadata": {},
   "source": [
    "데이터 타입을 바꿔서 적용하자"
   ]
  },
  {
   "cell_type": "code",
   "execution_count": 31,
   "metadata": {},
   "outputs": [
    {
     "name": "stdout",
     "output_type": "stream",
     "text": [
      "<class 'int'> 79\n"
     ]
    }
   ],
   "source": [
    "score = 79\n",
    "print(type(score), score)"
   ]
  },
  {
   "cell_type": "code",
   "execution_count": 32,
   "metadata": {},
   "outputs": [
    {
     "name": "stdout",
     "output_type": "stream",
     "text": [
      "<class 'float'> 79.0\n"
     ]
    }
   ],
   "source": [
    "score = float(score)\n",
    "print(type(score), score)"
   ]
  },
  {
   "cell_type": "code",
   "execution_count": 33,
   "metadata": {},
   "outputs": [
    {
     "name": "stdout",
     "output_type": "stream",
     "text": [
      "<class 'float'> 84.3\n",
      "<class 'int'> 84\n"
     ]
    }
   ],
   "source": [
    "avg = 84.3\n",
    "print(type(avg), avg)\n",
    "\n",
    "# 정수형으로 바꾸기\n",
    "avg = int(avg)\n",
    "print(type(avg), avg)"
   ]
  },
  {
   "cell_type": "code",
   "execution_count": 34,
   "metadata": {},
   "outputs": [
    {
     "name": "stdout",
     "output_type": "stream",
     "text": [
      "<class 'str'> <class 'str'>\n",
      "3232.9\n"
     ]
    }
   ],
   "source": [
    "x = 32\n",
    "y = 32.9\n",
    "x = str(x)\n",
    "y = str(y)\n",
    "print(type(x), type(y))\n",
    "print(x + y)"
   ]
  },
  {
   "cell_type": "code",
   "execution_count": 37,
   "metadata": {},
   "outputs": [
    {
     "name": "stdout",
     "output_type": "stream",
     "text": [
      "<class 'str'> 30\n",
      "<class 'str'> 303030\n",
      "<class 'int'> 90\n"
     ]
    }
   ],
   "source": [
    "# 문자열을 숫자형으로\n",
    "a = '30'\n",
    "print(type(a), a)\n",
    "print(type(a), a * 3)\n",
    "a = int(a)\n",
    "print(type(a), a * 3)"
   ]
  },
  {
   "cell_type": "markdown",
   "metadata": {},
   "source": [
    "### 변수를 사용해 간단한 프로그램 만들기"
   ]
  },
  {
   "cell_type": "markdown",
   "metadata": {},
   "source": [
    "Q1. 마트에서 과자와 라면, 햄을 사려고한다. 과자와 라면, 햄의 개수를 각각 입력받아 총 금액이 얼마인지 알려주느 프로그램을 작성해보자\n",
    "과자는 1200원, 라면은 800원, 햄은 2400원"
   ]
  },
  {
   "cell_type": "code",
   "execution_count": 39,
   "metadata": {},
   "outputs": [
    {
     "name": "stdout",
     "output_type": "stream",
     "text": [
      "과자를 몇 개 구매하겠습니까? 3\n",
      "라면을 몇개 구매하시겠습니까? 5\n",
      "햄을 몇 개 구매하시겠습니까? 2\n",
      "총 금액 12400\n"
     ]
    }
   ],
   "source": [
    "snack_count = int(input('과자를 몇 개 구매하겠습니까? '))\n",
    "remen_count = int(input('라면을 몇개 구매하시겠습니까? '))\n",
    "ham_count = int(input('햄을 몇 개 구매하시겠습니까? '))\n",
    "\n",
    "price = snack_count * 1200 + remen_count * 800 + ham_count * 2400\n",
    "print('총 금액', price)"
   ]
  },
  {
   "cell_type": "markdown",
   "metadata": {},
   "source": [
    "Q2. 마트에서 25% 할인 행사를 한다. 수정해보자"
   ]
  },
  {
   "cell_type": "code",
   "execution_count": 40,
   "metadata": {},
   "outputs": [
    {
     "name": "stdout",
     "output_type": "stream",
     "text": [
      "과자를 몇 개 구매하겠습니까? 3\n",
      "라면을 몇개 구매하시겠습니까? 5\n",
      "햄을 몇 개 구매하시겠습니까? 2\n",
      "총 금액 12400 할인 후 금액: 9300.0\n"
     ]
    }
   ],
   "source": [
    "snack_count = int(input('과자를 몇 개 구매하겠습니까? '))\n",
    "remen_count = int(input('라면을 몇개 구매하시겠습니까? '))\n",
    "ham_count = int(input('햄을 몇 개 구매하시겠습니까? '))\n",
    "\n",
    "price = snack_count * 1200 + remen_count * 800 + ham_count * 2400\n",
    "print('총 금액', price, '할인 후 금액:', price * 0.75)"
   ]
  },
  {
   "cell_type": "markdown",
   "metadata": {},
   "source": [
    "Q3. 정수 두개를 입력받아 사칙연산하는 프로그램을 작성해라"
   ]
  },
  {
   "cell_type": "code",
   "execution_count": 42,
   "metadata": {},
   "outputs": [
    {
     "name": "stdout",
     "output_type": "stream",
     "text": [
      "숫자1 입력: 12\n",
      "숫자2 입력: 4\n",
      "두 수를 더한 값: 16\n",
      "두 수를 뺀 값: 8\n",
      "두 수를 곱한 값: 48\n",
      "두 수를 나눈 값: 3.0\n"
     ]
    }
   ],
   "source": [
    "num1 = int(input('숫자1 입력: '))\n",
    "num2 = int(input('숫자2 입력: '))\n",
    "add = num1 + num2;\n",
    "sub = num1 - num2;\n",
    "mul = num1 * num2;\n",
    "div = num1 / num2;\n",
    "print('두 수를 더한 값:',add)\n",
    "print('두 수를 뺀 값:', sub)\n",
    "print('두 수를 곱한 값:', mul)\n",
    "print('두 수를 나눈 값:', div)"
   ]
  },
  {
   "cell_type": "code",
   "execution_count": null,
   "metadata": {},
   "outputs": [],
   "source": []
  }
 ],
 "metadata": {
  "kernelspec": {
   "display_name": "Python 3",
   "language": "python",
   "name": "python3"
  },
  "language_info": {
   "codemirror_mode": {
    "name": "ipython",
    "version": 3
   },
   "file_extension": ".py",
   "mimetype": "text/x-python",
   "name": "python",
   "nbconvert_exporter": "python",
   "pygments_lexer": "ipython3",
   "version": "3.7.3"
  }
 },
 "nbformat": 4,
 "nbformat_minor": 2
}
