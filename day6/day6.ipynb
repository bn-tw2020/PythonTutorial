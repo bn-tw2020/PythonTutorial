{
 "cells": [
  {
   "cell_type": "markdown",
   "metadata": {},
   "source": [
    "## 딕셔너리"
   ]
  },
  {
   "cell_type": "markdown",
   "metadata": {},
   "source": [
    "딕셔너리는 한글로 사전입니다.\n",
    "키와 값이 한 쌍입니다."
   ]
  },
  {
   "cell_type": "code",
   "execution_count": 1,
   "metadata": {},
   "outputs": [
    {
     "name": "stdout",
     "output_type": "stream",
     "text": [
      "{'break': '깨어지다', 'bring': '가져오다', 'brush': '봇', 'brave': '용감한'}\n"
     ]
    }
   ],
   "source": [
    "eng = {'break': '깨어지다', 'bring': '가져오다', 'brush': '봇', 'brave': '용감한'}\n",
    "print(eng)"
   ]
  },
  {
   "cell_type": "code",
   "execution_count": 3,
   "metadata": {},
   "outputs": [
    {
     "name": "stdout",
     "output_type": "stream",
     "text": [
      "깨어지다\n",
      "가져오다\n"
     ]
    }
   ],
   "source": [
    "print(eng['break'])\n",
    "print(eng['bring'])"
   ]
  },
  {
   "cell_type": "code",
   "execution_count": 4,
   "metadata": {},
   "outputs": [
    {
     "name": "stdout",
     "output_type": "stream",
     "text": [
      "{'김밥': 2500, '참치김밥': 3500, '라면': 3000, '치즈라면': 4000}\n",
      "{'김밥': 2500, '참치김밥': 3000, '라면': 3000, '치즈라면': 4000}\n"
     ]
    }
   ],
   "source": [
    "menu = {'김밥': 2500, '참치김밥': 3500, '라면': 3000, '치즈라면': 4000}\n",
    "print(menu)\n",
    "menu['참치김밥'] = 3000\n",
    "print(menu)"
   ]
  },
  {
   "cell_type": "code",
   "execution_count": 5,
   "metadata": {},
   "outputs": [
    {
     "name": "stdout",
     "output_type": "stream",
     "text": [
      "{'김밥': 3000, '참치김밥': 3000, '라면': 3000, '치즈라면': 4000}\n"
     ]
    }
   ],
   "source": [
    "menu['김밥'] += 500\n",
    "print(menu)"
   ]
  },
  {
   "cell_type": "code",
   "execution_count": 6,
   "metadata": {},
   "outputs": [
    {
     "name": "stdout",
     "output_type": "stream",
     "text": [
      "{'김밥': 3000, '참치김밥': 2200, '라면': 3000, '치즈라면': 4000}\n"
     ]
    }
   ],
   "source": [
    "menu['참치김밥'] -= 800\n",
    "print(menu)"
   ]
  },
  {
   "cell_type": "markdown",
   "metadata": {},
   "source": [
    "### 추가하기"
   ]
  },
  {
   "cell_type": "code",
   "execution_count": 7,
   "metadata": {},
   "outputs": [
    {
     "name": "stdout",
     "output_type": "stream",
     "text": [
      "{'김밥': 3000, '참치김밥': 2200, '라면': 3000, '치즈라면': 4000, '돈가스': 6000}\n"
     ]
    }
   ],
   "source": [
    "menu['돈가스'] = 6000\n",
    "print(menu)"
   ]
  },
  {
   "cell_type": "markdown",
   "metadata": {},
   "source": [
    "### 삭제하기"
   ]
  },
  {
   "cell_type": "code",
   "execution_count": 8,
   "metadata": {},
   "outputs": [
    {
     "name": "stdout",
     "output_type": "stream",
     "text": [
      "{'김밥': 3000, '참치김밥': 2200, '라면': 3000, '치즈라면': 4000, '돈가스': 6000}\n"
     ]
    }
   ],
   "source": [
    "print(menu)"
   ]
  },
  {
   "cell_type": "code",
   "execution_count": 9,
   "metadata": {},
   "outputs": [
    {
     "name": "stdout",
     "output_type": "stream",
     "text": [
      "{'참치김밥': 2200, '라면': 3000, '치즈라면': 4000, '돈가스': 6000}\n"
     ]
    }
   ],
   "source": [
    "del menu['김밥']\n",
    "print(menu)"
   ]
  },
  {
   "cell_type": "markdown",
   "metadata": {},
   "source": [
    "### 딕셔너리의 키만 꺼내기"
   ]
  },
  {
   "cell_type": "code",
   "execution_count": 10,
   "metadata": {},
   "outputs": [
    {
     "name": "stdout",
     "output_type": "stream",
     "text": [
      "dict_keys(['과자', '아이스크림', '휴지', '고기', '우유'])\n"
     ]
    }
   ],
   "source": [
    "mart = {'과자': 1500, '아이스크림': 1700, '휴지': 4000, '고기': 10500, '우유': 2600}\n",
    "print(mart.keys())"
   ]
  },
  {
   "cell_type": "markdown",
   "metadata": {},
   "source": [
    "### 딕셔너리의 값만 꺼내기"
   ]
  },
  {
   "cell_type": "code",
   "execution_count": 11,
   "metadata": {},
   "outputs": [
    {
     "name": "stdout",
     "output_type": "stream",
     "text": [
      "dict_values([1500, 1700, 4000, 10500, 2600])\n"
     ]
    }
   ],
   "source": [
    "mart = {'과자': 1500, '아이스크림': 1700, '휴지': 4000, '고기': 10500, '우유': 2600}\n",
    "print(mart.values())"
   ]
  },
  {
   "cell_type": "code",
   "execution_count": 12,
   "metadata": {},
   "outputs": [
    {
     "name": "stdout",
     "output_type": "stream",
     "text": [
      "['과자', '아이스크림', '휴지', '고기', '우유']\n"
     ]
    }
   ],
   "source": [
    "mart = {'과자': 1500, '아이스크림': 1700, '휴지': 4000, '고기': 10500, '우유': 2600}\n",
    "print(list(mart.keys()))"
   ]
  },
  {
   "cell_type": "code",
   "execution_count": 13,
   "metadata": {},
   "outputs": [
    {
     "name": "stdout",
     "output_type": "stream",
     "text": [
      "[1500, 1700, 4000, 10500, 2600]\n"
     ]
    }
   ],
   "source": [
    "mart = {'과자': 1500, '아이스크림': 1700, '휴지': 4000, '고기': 10500, '우유': 2600}\n",
    "print(list(mart.values()))"
   ]
  },
  {
   "cell_type": "markdown",
   "metadata": {},
   "source": [
    "### 딕셔너리의 키-값 꺼내기"
   ]
  },
  {
   "cell_type": "code",
   "execution_count": 14,
   "metadata": {},
   "outputs": [
    {
     "name": "stdout",
     "output_type": "stream",
     "text": [
      "dict_items([('과자', 1500), ('아이스크림', 1700), ('휴지', 4000), ('고기', 10500), ('우유', 2600)])\n"
     ]
    }
   ],
   "source": [
    "mart = {'과자': 1500, '아이스크림': 1700, '휴지': 4000, '고기': 10500, '우유': 2600}\n",
    "print(mart.items())"
   ]
  },
  {
   "cell_type": "markdown",
   "metadata": {},
   "source": [
    "### 딕셔너리 정렬하기"
   ]
  },
  {
   "cell_type": "markdown",
   "metadata": {},
   "source": [
    "딕셔너리의 데이터를 정렬해봅니다.  \n",
    "정렬은 오름차순이나 내림차순으로 데이터를 나열하는 것.  \n",
    "정렬할 때는 sorted()이용  \n",
    "위에서 했던 keys(), values(). items()명령어를 이용"
   ]
  },
  {
   "cell_type": "code",
   "execution_count": 15,
   "metadata": {},
   "outputs": [
    {
     "name": "stdout",
     "output_type": "stream",
     "text": [
      "['고기', '과자', '아이스크림', '우유', '휴지']\n"
     ]
    }
   ],
   "source": [
    "mart = {'과자': 1500, '아이스크림': 1700, '휴지': 4000, '고기': 10500, '우유': 2600}\n",
    "print(sorted(mart.keys()))"
   ]
  },
  {
   "cell_type": "code",
   "execution_count": 17,
   "metadata": {},
   "outputs": [
    {
     "name": "stdout",
     "output_type": "stream",
     "text": [
      "['휴지', '우유', '아이스크림', '과자', '고기']\n"
     ]
    }
   ],
   "source": [
    "mart = {'과자': 1500, '아이스크림': 1700, '휴지': 4000, '고기': 10500, '우유': 2600}\n",
    "print(sorted(mart.keys(), reverse=True))"
   ]
  },
  {
   "cell_type": "code",
   "execution_count": 18,
   "metadata": {},
   "outputs": [
    {
     "name": "stdout",
     "output_type": "stream",
     "text": [
      "['고기', '과자']\n"
     ]
    }
   ],
   "source": [
    "mart = {'과자': 1500, '아이스크림': 1700, '휴지': 4000, '고기': 10500, '우유': 2600}\n",
    "print(sorted(mart.keys())[:2])"
   ]
  },
  {
   "cell_type": "code",
   "execution_count": 22,
   "metadata": {},
   "outputs": [
    {
     "name": "stdout",
     "output_type": "stream",
     "text": [
      "[1500, 1700, 2600, 4000, 10500]\n"
     ]
    }
   ],
   "source": [
    "mart = {'과자': 1500, '아이스크림': 1700, '휴지': 4000, '고기': 10500, '우유': 2600}\n",
    "print(sorted(mart.values()))"
   ]
  },
  {
   "cell_type": "code",
   "execution_count": 23,
   "metadata": {},
   "outputs": [
    {
     "name": "stdout",
     "output_type": "stream",
     "text": [
      "[10500, 4000, 2600, 1700, 1500]\n"
     ]
    }
   ],
   "source": [
    "mart = {'과자': 1500, '아이스크림': 1700, '휴지': 4000, '고기': 10500, '우유': 2600}\n",
    "print(sorted(mart.values(), reverse=True))"
   ]
  },
  {
   "cell_type": "code",
   "execution_count": 24,
   "metadata": {},
   "outputs": [
    {
     "name": "stdout",
     "output_type": "stream",
     "text": [
      "[10500, 4000, 2600]\n"
     ]
    }
   ],
   "source": [
    "mart = {'과자': 1500, '아이스크림': 1700, '휴지': 4000, '고기': 10500, '우유': 2600}\n",
    "print(sorted(mart.values(), reverse=True)[:3])"
   ]
  },
  {
   "cell_type": "code",
   "execution_count": 25,
   "metadata": {},
   "outputs": [
    {
     "name": "stdout",
     "output_type": "stream",
     "text": [
      "['고기', '과자', '아이스크림', '우유', '휴지']\n"
     ]
    }
   ],
   "source": [
    "mart = {'과자': 1500, '아이스크림': 1700, '휴지': 4000, '고기': 10500, '우유': 2600}\n",
    "print(sorted(mart))"
   ]
  },
  {
   "cell_type": "code",
   "execution_count": 26,
   "metadata": {},
   "outputs": [
    {
     "name": "stdout",
     "output_type": "stream",
     "text": [
      "[('고기', 10500), ('과자', 1500), ('아이스크림', 1700), ('우유', 2600), ('휴지', 4000)]\n"
     ]
    }
   ],
   "source": [
    "mart = {'과자': 1500, '아이스크림': 1700, '휴지': 4000, '고기': 10500, '우유': 2600}\n",
    "print(sorted(mart.items()))"
   ]
  },
  {
   "cell_type": "code",
   "execution_count": 27,
   "metadata": {},
   "outputs": [
    {
     "name": "stdout",
     "output_type": "stream",
     "text": [
      "[('휴지', 4000), ('우유', 2600), ('아이스크림', 1700), ('과자', 1500), ('고기', 10500)]\n"
     ]
    }
   ],
   "source": [
    "mart = {'과자': 1500, '아이스크림': 1700, '휴지': 4000, '고기': 10500, '우유': 2600}\n",
    "print(sorted(mart.items(), reverse=True))"
   ]
  },
  {
   "cell_type": "markdown",
   "metadata": {},
   "source": [
    "키가 아닌 값을 기준으로 정렬해야할 때가 존재합니다.  \n",
    "값으로 정렬하려면 operator라는 모듈이 필요한다.\n",
    "operator에는 계산을 도와주는 다양한 명령어가 포함되어있다.  \n",
    "operator에 포함된 itemgetter()를 사용합니다.\n",
    "itemgetter()는 기준에 따라 키와 값을 모으는 명령어 이다."
   ]
  },
  {
   "cell_type": "code",
   "execution_count": 29,
   "metadata": {},
   "outputs": [
    {
     "name": "stdout",
     "output_type": "stream",
     "text": [
      "[('고기', 10500), ('과자', 1500), ('아이스크림', 1700), ('우유', 2600), ('휴지', 4000)]\n"
     ]
    }
   ],
   "source": [
    "import operator\n",
    "mart = {'과자': 1500, '아이스크림': 1700, '휴지': 4000, '고기': 10500, '우유': 2600}\n",
    "print(sorted(mart.items(), key=operator.itemgetter(0)))"
   ]
  },
  {
   "cell_type": "code",
   "execution_count": 30,
   "metadata": {},
   "outputs": [
    {
     "name": "stdout",
     "output_type": "stream",
     "text": [
      "[('과자', 1500), ('아이스크림', 1700), ('우유', 2600), ('휴지', 4000), ('고기', 10500)]\n"
     ]
    }
   ],
   "source": [
    "import operator\n",
    "mart = {'과자': 1500, '아이스크림': 1700, '휴지': 4000, '고기': 10500, '우유': 2600}\n",
    "print(sorted(mart.items(), key=operator.itemgetter(1)))"
   ]
  },
  {
   "cell_type": "code",
   "execution_count": 31,
   "metadata": {},
   "outputs": [
    {
     "name": "stdout",
     "output_type": "stream",
     "text": [
      "[('고기', 10500), ('휴지', 4000), ('우유', 2600), ('아이스크림', 1700), ('과자', 1500)]\n"
     ]
    }
   ],
   "source": [
    "import operator\n",
    "mart = {'과자': 1500, '아이스크림': 1700, '휴지': 4000, '고기': 10500, '우유': 2600}\n",
    "print(sorted(mart.items(), key=operator.itemgetter(1), reverse=True))"
   ]
  },
  {
   "cell_type": "markdown",
   "metadata": {},
   "source": [
    "### 정렬이 될까요?"
   ]
  },
  {
   "cell_type": "code",
   "execution_count": 32,
   "metadata": {},
   "outputs": [
    {
     "name": "stdout",
     "output_type": "stream",
     "text": [
      "{'과자': 1500, '아이스크림': 1700, '휴지': 4000, '고기': 10500, '우유': 2600}\n"
     ]
    }
   ],
   "source": [
    "mart = {'과자': 1500, '아이스크림': 1700, '휴지': 4000, '고기': 10500, '우유': 2600}\n",
    "\n",
    "sorted(mart.keys())\n",
    "\n",
    "print(mart)"
   ]
  },
  {
   "cell_type": "markdown",
   "metadata": {},
   "source": [
    "sorted()는 딕셔너리를 정렬해서 보여주기만하지, 딕셔너리에 적용이 되지는 않는다."
   ]
  },
  {
   "cell_type": "code",
   "execution_count": 36,
   "metadata": {},
   "outputs": [
    {
     "name": "stdout",
     "output_type": "stream",
     "text": [
      "{'과자': 1500, '아이스크림': 1700, '휴지': 4000, '고기': 10500, '우유': 2600}\n",
      "{'고기': 10500, '과자': 1500, '아이스크림': 1700, '우유': 2600, '휴지': 4000}\n"
     ]
    }
   ],
   "source": [
    "mart = {'과자': 1500, '아이스크림': 1700, '휴지': 4000, '고기': 10500, '우유': 2600}\n",
    "\n",
    "update_mart = sorted(mart.items())\n",
    "\n",
    "print(mart)\n",
    "print(dict(update_mart))"
   ]
  },
  {
   "cell_type": "markdown",
   "metadata": {},
   "source": [
    "### 연습"
   ]
  },
  {
   "cell_type": "code",
   "execution_count": 37,
   "metadata": {},
   "outputs": [
    {
     "name": "stdout",
     "output_type": "stream",
     "text": [
      "어떤 학생의 점수가 궁금한가요?시우\n",
      "76 점 입니다.\n"
     ]
    }
   ],
   "source": [
    "midterm = {'도윤': 43, '하윤': 82, '시우': 76, '지유': 61, '주원': 94}\n",
    "student = input('어떤 학생의 점수가 궁금한가요?')\n",
    "if student in midterm.keys():\n",
    "    print(midterm[student], '점 입니다.')\n",
    "else:\n",
    "    print('해당 학생이 없습니다.')"
   ]
  },
  {
   "cell_type": "code",
   "execution_count": 38,
   "metadata": {},
   "outputs": [
    {
     "name": "stdout",
     "output_type": "stream",
     "text": [
      "도윤 하윤 시우 지유 주원 "
     ]
    }
   ],
   "source": [
    "midterm = {'도윤': 43, '하윤': 82, '시우': 76, '지유': 61, '주원': 94}\n",
    "for i in midterm.keys():\n",
    "    print(i, end= ' ')"
   ]
  },
  {
   "cell_type": "code",
   "execution_count": 39,
   "metadata": {},
   "outputs": [
    {
     "name": "stdout",
     "output_type": "stream",
     "text": [
      "43 82 76 61 94 "
     ]
    }
   ],
   "source": [
    "midterm = {'도윤': 43, '하윤': 82, '시우': 76, '지유': 61, '주원': 94}\n",
    "for i in midterm.values():\n",
    "    print(i, end= ' ')"
   ]
  },
  {
   "cell_type": "code",
   "execution_count": 40,
   "metadata": {},
   "outputs": [
    {
     "name": "stdout",
     "output_type": "stream",
     "text": [
      "도윤 43 하윤 82 시우 76 지유 61 주원 94 "
     ]
    }
   ],
   "source": [
    "midterm = {'도윤': 43, '하윤': 82, '시우': 76, '지유': 61, '주원': 94}\n",
    "for i in midterm.keys():\n",
    "    print(i, midterm[i], end= ' ')"
   ]
  },
  {
   "cell_type": "code",
   "execution_count": 43,
   "metadata": {},
   "outputs": [
    {
     "name": "stdout",
     "output_type": "stream",
     "text": [
      "('도윤', 43) ('하윤', 82) ('시우', 76) ('지유', 61) ('주원', 94) "
     ]
    }
   ],
   "source": [
    "midterm = {'도윤': 43, '하윤': 82, '시우': 76, '지유': 61, '주원': 94}\n",
    "for i in midterm.items():\n",
    "    print(i, end= ' ')"
   ]
  },
  {
   "cell_type": "code",
   "execution_count": 44,
   "metadata": {},
   "outputs": [
    {
     "name": "stdout",
     "output_type": "stream",
     "text": [
      "점수가 70점 이상인 학생의 이름과 점수를 모두 출력합니다.\n",
      "하윤 82 시우 76 주원 94 "
     ]
    }
   ],
   "source": [
    "midterm = {'도윤': 43, '하윤': 82, '시우': 76, '지유': 61, '주원': 94}\n",
    "print('점수가 70점 이상인 학생의 이름과 점수를 모두 출력합니다.')\n",
    "for index, value in midterm.items():\n",
    "    if value >= 70:\n",
    "        print(index, value, end = ' ')"
   ]
  },
  {
   "cell_type": "markdown",
   "metadata": {},
   "source": [
    "## 간단한 프로그램 만들기"
   ]
  },
  {
   "cell_type": "code",
   "execution_count": 48,
   "metadata": {},
   "outputs": [
    {
     "name": "stdout",
     "output_type": "stream",
     "text": [
      "['in', 'a', 'town', 'of', 'persia', 'lived', 'two', 'brothers', ',', 'sons', 'of', 'a', 'poor', 'man;', 'one', 'named', 'cassim,', 'the', 'other', 'alibaba.', 'cassim,', 'the', 'elder...']\n"
     ]
    }
   ],
   "source": [
    "alibaba = \" in a town of persia lived two brothers, sons of a poor man; one named cassim, the other alibaba. cassim, the elder...\"\n",
    "vocab = {}\n",
    "word_list = alibaba.split()\n",
    "print(word_list)"
   ]
  },
  {
   "cell_type": "code",
   "execution_count": 49,
   "metadata": {},
   "outputs": [
    {
     "name": "stdout",
     "output_type": "stream",
     "text": [
      "{'in': 1, 'a': 2, 'town': 1, 'of': 2, 'persia': 1, 'lived': 1, 'two': 1, 'brothers': 1, ',': 1, 'sons': 1, 'poor': 1, 'man;': 1, 'one': 1, 'named': 1, 'cassim,': 2, 'the': 2, 'other': 1, 'alibaba.': 1, 'elder...': 1}\n"
     ]
    }
   ],
   "source": [
    "for w in word_list:\n",
    "    if w not in vocab:\n",
    "        vocab[w] = 1\n",
    "    else:\n",
    "        vocab[w] += 1\n",
    "print(vocab)"
   ]
  },
  {
   "cell_type": "code",
   "execution_count": null,
   "metadata": {},
   "outputs": [],
   "source": []
  }
 ],
 "metadata": {
  "kernelspec": {
   "display_name": "Python 3",
   "language": "python",
   "name": "python3"
  },
  "language_info": {
   "codemirror_mode": {
    "name": "ipython",
    "version": 3
   },
   "file_extension": ".py",
   "mimetype": "text/x-python",
   "name": "python",
   "nbconvert_exporter": "python",
   "pygments_lexer": "ipython3",
   "version": "3.7.3"
  }
 },
 "nbformat": 4,
 "nbformat_minor": 2
}
