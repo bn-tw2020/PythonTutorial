{
 "cells": [
  {
   "cell_type": "markdown",
   "metadata": {},
   "source": [
    "## 리스트"
   ]
  },
  {
   "cell_type": "markdown",
   "metadata": {},
   "source": [
    "월별 지출을 정리하는 가계부 프로그램을 만든다고 한다면\n",
    "\n",
    "지출을 월별로 저장해야 하므로 변수 12개가 필요할 것이다.\n",
    "하지만 리스트라는 것을 배우면 한번에 데이터를 묶을 수 있다."
   ]
  },
  {
   "cell_type": "code",
   "execution_count": 1,
   "metadata": {},
   "outputs": [],
   "source": [
    "spending = [25, 36, 8, 53, 24, 56]"
   ]
  },
  {
   "cell_type": "code",
   "execution_count": 2,
   "metadata": {},
   "outputs": [
    {
     "name": "stdout",
     "output_type": "stream",
     "text": [
      "[1, 2, 3, 4, 5]\n"
     ]
    }
   ],
   "source": [
    "abc = [1, 2, 3, 4, 5]\n",
    "print(abc)"
   ]
  },
  {
   "cell_type": "code",
   "execution_count": 3,
   "metadata": {},
   "outputs": [
    {
     "name": "stdout",
     "output_type": "stream",
     "text": [
      "1 2 3 4 5\n"
     ]
    }
   ],
   "source": [
    "print(*abc)"
   ]
  },
  {
   "cell_type": "code",
   "execution_count": 4,
   "metadata": {},
   "outputs": [
    {
     "name": "stdout",
     "output_type": "stream",
     "text": [
      "<class 'list'> [1, 2, 3, 4, 5]\n"
     ]
    }
   ],
   "source": [
    "print(type(abc), abc)"
   ]
  },
  {
   "cell_type": "code",
   "execution_count": 5,
   "metadata": {},
   "outputs": [
    {
     "name": "stdout",
     "output_type": "stream",
     "text": [
      "<class 'list'> [25, 36, 8, 53, 24, 56, 38, 79, 94, 20, 40, 25]\n"
     ]
    }
   ],
   "source": [
    "spending_year = [25, 36, 8, 53, 24, 56, 38, 79, 94, 20, 40, 25]\n",
    "print(type(spending_year), spending_year)"
   ]
  },
  {
   "cell_type": "code",
   "execution_count": 6,
   "metadata": {},
   "outputs": [
    {
     "name": "stdout",
     "output_type": "stream",
     "text": [
      "12\n"
     ]
    }
   ],
   "source": [
    "print(len(spending_year))"
   ]
  },
  {
   "cell_type": "code",
   "execution_count": 8,
   "metadata": {},
   "outputs": [
    {
     "name": "stdout",
     "output_type": "stream",
     "text": [
      "['피자', '치킨', '떡볶이', '스테이크', '딸기', '파스타']\n"
     ]
    }
   ],
   "source": [
    "food = ['피자', '치킨', '떡볶이', '스테이크', '딸기', '파스타']\n",
    "print(food)"
   ]
  },
  {
   "cell_type": "code",
   "execution_count": 9,
   "metadata": {},
   "outputs": [
    {
     "name": "stdout",
     "output_type": "stream",
     "text": [
      "좋아하는 음식 개수:  6\n",
      "좋아하는 음식 순서:  ['피자', '치킨', '떡볶이', '스테이크', '딸기', '파스타']\n"
     ]
    }
   ],
   "source": [
    "print('좋아하는 음식 개수: ' , len(food))\n",
    "print('좋아하는 음식 순서: ', food)"
   ]
  },
  {
   "cell_type": "code",
   "execution_count": 10,
   "metadata": {},
   "outputs": [
    {
     "name": "stdout",
     "output_type": "stream",
     "text": [
      "피자\n"
     ]
    }
   ],
   "source": [
    "print(food[0])"
   ]
  },
  {
   "cell_type": "code",
   "execution_count": 11,
   "metadata": {},
   "outputs": [
    {
     "name": "stdout",
     "output_type": "stream",
     "text": [
      "3월 지출 변경 전:  [25, 36, 8, 53, 24, 56]\n",
      "3월 지출 변경 후:  [25, 36, 18, 53, 24, 56]\n"
     ]
    }
   ],
   "source": [
    "spending = [25, 36, 8, 53, 24, 56]\n",
    "print('3월 지출 변경 전: ', spending)\n",
    "\n",
    "spending[2] += 10\n",
    "print('3월 지출 변경 후: ', spending)"
   ]
  },
  {
   "cell_type": "markdown",
   "metadata": {},
   "source": [
    "### 반복문으로 리스트 다루기"
   ]
  },
  {
   "cell_type": "code",
   "execution_count": 13,
   "metadata": {},
   "outputs": [
    {
     "name": "stdout",
     "output_type": "stream",
     "text": [
      "25 36 8 53 24 56 "
     ]
    }
   ],
   "source": [
    "for i in [25, 36, 8, 53, 24, 56]:\n",
    "    print(i, end=' ')"
   ]
  },
  {
   "cell_type": "code",
   "execution_count": 18,
   "metadata": {},
   "outputs": [
    {
     "name": "stdout",
     "output_type": "stream",
     "text": [
      "25 36 8 53 24 56 "
     ]
    }
   ],
   "source": [
    "spending = [25, 36, 8, 53, 24, 56]\n",
    "for i in range(len(spending)):\n",
    "    print(spending[i], end = ' ')"
   ]
  },
  {
   "cell_type": "markdown",
   "metadata": {},
   "source": [
    "### 음수 인덱스 사용"
   ]
  },
  {
   "cell_type": "code",
   "execution_count": 20,
   "metadata": {},
   "outputs": [
    {
     "name": "stdout",
     "output_type": "stream",
     "text": [
      "파스타\n",
      "스테이크\n",
      "떡볶이\n"
     ]
    }
   ],
   "source": [
    "food = ['피자', '치킨', '떡볶이', '스테이크', '파스타']\n",
    "print(food[-1])\n",
    "print(food[-2])\n",
    "print(food[-3])"
   ]
  },
  {
   "cell_type": "markdown",
   "metadata": {},
   "source": [
    "### 데이터 추가"
   ]
  },
  {
   "cell_type": "code",
   "execution_count": 21,
   "metadata": {},
   "outputs": [
    {
     "name": "stdout",
     "output_type": "stream",
     "text": [
      "['피자', '치킨', '떡볶이', '스테이크', '파스타', '감자칩']\n"
     ]
    }
   ],
   "source": [
    "food.append('감자칩')\n",
    "print(food)"
   ]
  },
  {
   "cell_type": "code",
   "execution_count": 22,
   "metadata": {},
   "outputs": [
    {
     "name": "stdout",
     "output_type": "stream",
     "text": [
      "['피자', '치킨', '떡볶이', '스테이크', '파스타', '감자칩', '카레']\n"
     ]
    }
   ],
   "source": [
    "food.append('카레')\n",
    "print(food)"
   ]
  },
  {
   "cell_type": "code",
   "execution_count": 23,
   "metadata": {},
   "outputs": [
    {
     "name": "stdout",
     "output_type": "stream",
     "text": [
      "[24, 38, 19, 40]\n"
     ]
    }
   ],
   "source": [
    "abc = []\n",
    "abc.append(24)\n",
    "abc.append(38)\n",
    "abc.append(19)\n",
    "abc.append(40)\n",
    "print(abc)"
   ]
  },
  {
   "cell_type": "markdown",
   "metadata": {},
   "source": [
    "### 데이터 삭제"
   ]
  },
  {
   "cell_type": "code",
   "execution_count": 24,
   "metadata": {},
   "outputs": [
    {
     "name": "stdout",
     "output_type": "stream",
     "text": [
      "['피자', '치킨', '스테이크', '파스타']\n"
     ]
    }
   ],
   "source": [
    "food = ['피자', '치킨', '떡볶이', '스테이크', '파스타']\n",
    "food.remove('떡볶이')\n",
    "print(food)"
   ]
  },
  {
   "cell_type": "code",
   "execution_count": 25,
   "metadata": {},
   "outputs": [
    {
     "name": "stdout",
     "output_type": "stream",
     "text": [
      "['피자', '치킨', '파스타']\n"
     ]
    }
   ],
   "source": [
    "del food[-2]\n",
    "print(food)"
   ]
  },
  {
   "cell_type": "markdown",
   "metadata": {},
   "source": [
    "### 데이터 슬라이싱"
   ]
  },
  {
   "cell_type": "code",
   "execution_count": 28,
   "metadata": {},
   "outputs": [
    {
     "name": "stdout",
     "output_type": "stream",
     "text": [
      "['피자', '치킨', '떡볶이']\n",
      "['떡볶이', '스테이크']\n",
      "['피자', '치킨', '떡볶이']\n"
     ]
    }
   ],
   "source": [
    "food = ['피자', '치킨', '떡볶이', '스테이크', '파스타']\n",
    "print(food[0:3])\n",
    "print(food[2:4])\n",
    "print(food[:3])"
   ]
  },
  {
   "cell_type": "markdown",
   "metadata": {},
   "source": [
    "### 문자열 나누기"
   ]
  },
  {
   "cell_type": "markdown",
   "metadata": {},
   "source": [
    "문자열.split()"
   ]
  },
  {
   "cell_type": "code",
   "execution_count": 30,
   "metadata": {},
   "outputs": [
    {
     "name": "stdout",
     "output_type": "stream",
     "text": [
      "['나는야', '우주최강']\n",
      "나는야 우주최강\n"
     ]
    }
   ],
   "source": [
    "a = '나는야 우주최강'\n",
    "data = a.split()\n",
    "print(data)\n",
    "print(data[0], data[1])"
   ]
  },
  {
   "cell_type": "code",
   "execution_count": 31,
   "metadata": {},
   "outputs": [
    {
     "name": "stdout",
     "output_type": "stream",
     "text": [
      "2020 08 15\n"
     ]
    }
   ],
   "source": [
    "data = '2020-08-15'\n",
    "data_1 = data.split('-')\n",
    "print(data_1[0], data_1[1], data_1[2])"
   ]
  },
  {
   "cell_type": "markdown",
   "metadata": {},
   "source": [
    "### 다양한 리스트 명령어 사용하기"
   ]
  },
  {
   "cell_type": "code",
   "execution_count": 32,
   "metadata": {},
   "outputs": [
    {
     "name": "stdout",
     "output_type": "stream",
     "text": [
      "['감자칩', '된장찌개', '바나나', '스테이크', '치킨', '파스타', '피자']\n"
     ]
    }
   ],
   "source": [
    "food = ['피자', '치킨', '스테이크', '된장찌개', '바나나', '파스타', '감자칩']\n",
    "food.sort()\n",
    "print(food)"
   ]
  },
  {
   "cell_type": "code",
   "execution_count": 33,
   "metadata": {},
   "outputs": [
    {
     "name": "stdout",
     "output_type": "stream",
     "text": [
      "['피자', '파스타', '치킨', '스테이크', '바나나', '된장찌개', '감자칩']\n"
     ]
    }
   ],
   "source": [
    "food.sort(reverse=True)\n",
    "print(food)"
   ]
  },
  {
   "cell_type": "code",
   "execution_count": 34,
   "metadata": {},
   "outputs": [
    {
     "name": "stdout",
     "output_type": "stream",
     "text": [
      "56 8\n"
     ]
    }
   ],
   "source": [
    "spending_6mon = [25, 36, 8, 53, 24, 56]\n",
    "print(max(spending_6mon), min(spending_6mon))"
   ]
  },
  {
   "cell_type": "code",
   "execution_count": 35,
   "metadata": {},
   "outputs": [
    {
     "name": "stdout",
     "output_type": "stream",
     "text": [
      "202\n"
     ]
    }
   ],
   "source": [
    "print(sum(spending_6mon))"
   ]
  },
  {
   "cell_type": "code",
   "execution_count": 36,
   "metadata": {},
   "outputs": [
    {
     "name": "stdout",
     "output_type": "stream",
     "text": [
      "4\n"
     ]
    }
   ],
   "source": [
    "print(spending_6mon.index(24))"
   ]
  },
  {
   "cell_type": "code",
   "execution_count": 37,
   "metadata": {},
   "outputs": [
    {
     "name": "stdout",
     "output_type": "stream",
     "text": [
      "[0]\n",
      "[0, 40]\n",
      "[0, 40, 48]\n",
      "[0, 40, 48, 91]\n",
      "[0, 40, 48, 91, 84]\n",
      "[0, 40, 48, 91, 84, 48]\n",
      "[0, 40, 48, 91, 84, 48, 64]\n",
      "[0, 40, 48, 91, 84, 48, 64, 87]\n",
      "[0, 40, 48, 91, 84, 48, 64, 87, 100]\n",
      "[0, 40, 48, 91, 84, 48, 64, 87, 100, 32]\n",
      "[0, 40, 48, 91, 84, 48, 64, 87, 100, 32, 72]\n",
      "[0, 40, 48, 91, 84, 48, 64, 87, 100, 32, 72, 49]\n",
      "[0, 40, 48, 91, 84, 48, 64, 87, 100, 32, 72, 49, 54]\n",
      "[0, 40, 48, 91, 84, 48, 64, 87, 100, 32, 72, 49, 54, 99]\n",
      "[0, 40, 48, 91, 84, 48, 64, 87, 100, 32, 72, 49, 54, 99, 41]\n",
      "[0, 40, 48, 91, 84, 48, 64, 87, 100, 32, 72, 49, 54, 99, 41, 85]\n",
      "[0, 40, 48, 91, 84, 48, 64, 87, 100, 32, 72, 49, 54, 99, 41, 85, 53]\n",
      "[0, 40, 48, 91, 84, 48, 64, 87, 100, 32, 72, 49, 54, 99, 41, 85, 53, 12]\n",
      "[0, 40, 48, 91, 84, 48, 64, 87, 100, 32, 72, 49, 54, 99, 41, 85, 53, 12, 86]\n",
      "[0, 40, 48, 91, 84, 48, 64, 87, 100, 32, 72, 49, 54, 99, 41, 85, 53, 12, 86, 77]\n",
      "[0, 40, 48, 91, 84, 48, 64, 87, 100, 32, 72, 49, 54, 99, 41, 85, 53, 12, 86, 77, 86]\n",
      "[0, 40, 48, 91, 84, 48, 64, 87, 100, 32, 72, 49, 54, 99, 41, 85, 53, 12, 86, 77, 86, 61]\n",
      "[0, 40, 48, 91, 84, 48, 64, 87, 100, 32, 72, 49, 54, 99, 41, 85, 53, 12, 86, 77, 86, 61, 58]\n",
      "[0, 40, 48, 91, 84, 48, 64, 87, 100, 32, 72, 49, 54, 99, 41, 85, 53, 12, 86, 77, 86, 61, 58, 37]\n",
      "[0, 40, 48, 91, 84, 48, 64, 87, 100, 32, 72, 49, 54, 99, 41, 85, 53, 12, 86, 77, 86, 61, 58, 37, 77]\n"
     ]
    }
   ],
   "source": [
    "import random\n",
    "\n",
    "score = []\n",
    "for i in range(25):\n",
    "    score.append(random.randint(0, 100))\n",
    "    print(score)"
   ]
  },
  {
   "cell_type": "markdown",
   "metadata": {},
   "source": [
    "### 2차원 리스트"
   ]
  },
  {
   "cell_type": "code",
   "execution_count": 38,
   "metadata": {},
   "outputs": [
    {
     "name": "stdout",
     "output_type": "stream",
     "text": [
      "[[1, 2, 3], [4, 5, 6], [7, 8, 9]]\n"
     ]
    }
   ],
   "source": [
    "abc = [[1,2,3], [4,5,6], [7,8,9]]\n",
    "print(abc)"
   ]
  },
  {
   "cell_type": "code",
   "execution_count": 39,
   "metadata": {},
   "outputs": [
    {
     "name": "stdout",
     "output_type": "stream",
     "text": [
      "2\n",
      "6\n"
     ]
    }
   ],
   "source": [
    "print(abc[0][1])\n",
    "print(abc[1][2])"
   ]
  },
  {
   "cell_type": "code",
   "execution_count": 41,
   "metadata": {},
   "outputs": [
    {
     "name": "stdout",
     "output_type": "stream",
     "text": [
      "[1, 2, 3]\n",
      "[4, 5, 6]\n",
      "[7, 8, 9]\n"
     ]
    }
   ],
   "source": [
    "for row in abc:\n",
    "    print(row)"
   ]
  },
  {
   "cell_type": "code",
   "execution_count": 42,
   "metadata": {},
   "outputs": [
    {
     "name": "stdout",
     "output_type": "stream",
     "text": [
      "1\n",
      "4\n",
      "7\n"
     ]
    }
   ],
   "source": [
    "for row in abc:\n",
    "    print(row[0])"
   ]
  },
  {
   "cell_type": "code",
   "execution_count": 43,
   "metadata": {},
   "outputs": [
    {
     "name": "stdout",
     "output_type": "stream",
     "text": [
      "3\n",
      "6\n",
      "9\n"
     ]
    }
   ],
   "source": [
    "for row in abc:\n",
    "    print(row[-1])"
   ]
  },
  {
   "cell_type": "code",
   "execution_count": 45,
   "metadata": {},
   "outputs": [
    {
     "name": "stdout",
     "output_type": "stream",
     "text": [
      "1 2 3 4 5 6 7 8 9 "
     ]
    }
   ],
   "source": [
    "for i in range(3):\n",
    "    for j in range(3):\n",
    "        print(abc[i][j], end=' ')"
   ]
  }
 ],
 "metadata": {
  "kernelspec": {
   "display_name": "Python 3",
   "language": "python",
   "name": "python3"
  },
  "language_info": {
   "codemirror_mode": {
    "name": "ipython",
    "version": 3
   },
   "file_extension": ".py",
   "mimetype": "text/x-python",
   "name": "python",
   "nbconvert_exporter": "python",
   "pygments_lexer": "ipython3",
   "version": "3.7.3"
  }
 },
 "nbformat": 4,
 "nbformat_minor": 2
}
