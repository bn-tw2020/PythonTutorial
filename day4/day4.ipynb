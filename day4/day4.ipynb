{
 "cells": [
  {
   "cell_type": "markdown",
   "metadata": {},
   "source": [
    "## 반복문\n",
    "\n",
    "#### for"
   ]
  },
  {
   "cell_type": "code",
   "execution_count": 1,
   "metadata": {},
   "outputs": [
    {
     "name": "stdout",
     "output_type": "stream",
     "text": [
      "안녕하세요\n",
      "안녕하세요\n",
      "안녕하세요\n",
      "안녕하세요\n",
      "안녕하세요\n"
     ]
    }
   ],
   "source": [
    "for a in [1,2,3,4,5]:\n",
    "    print('안녕하세요')"
   ]
  },
  {
   "cell_type": "code",
   "execution_count": 2,
   "metadata": {},
   "outputs": [
    {
     "name": "stdout",
     "output_type": "stream",
     "text": [
      "1 을(를) 저장 중입니다\n",
      "2 을(를) 저장 중입니다\n",
      "3 을(를) 저장 중입니다\n",
      "4 을(를) 저장 중입니다\n",
      "5 을(를) 저장 중입니다\n"
     ]
    }
   ],
   "source": [
    "for a in [1, 2, 3, 4, 5]:\n",
    "    print(a, '을(를) 저장 중입니다')"
   ]
  },
  {
   "cell_type": "code",
   "execution_count": 3,
   "metadata": {},
   "outputs": [
    {
     "name": "stdout",
     "output_type": "stream",
     "text": [
      "1 선생님, 다시는 청소를 빼먹지 않겠습니다.\n",
      "2 선생님, 다시는 청소를 빼먹지 않겠습니다.\n",
      "3 선생님, 다시는 청소를 빼먹지 않겠습니다.\n",
      "4 선생님, 다시는 청소를 빼먹지 않겠습니다.\n",
      "5 선생님, 다시는 청소를 빼먹지 않겠습니다.\n",
      "6 선생님, 다시는 청소를 빼먹지 않겠습니다.\n",
      "7 선생님, 다시는 청소를 빼먹지 않겠습니다.\n",
      "8 선생님, 다시는 청소를 빼먹지 않겠습니다.\n",
      "9 선생님, 다시는 청소를 빼먹지 않겠습니다.\n",
      "10 선생님, 다시는 청소를 빼먹지 않겠습니다.\n",
      "11 선생님, 다시는 청소를 빼먹지 않겠습니다.\n",
      "12 선생님, 다시는 청소를 빼먹지 않겠습니다.\n",
      "13 선생님, 다시는 청소를 빼먹지 않겠습니다.\n",
      "14 선생님, 다시는 청소를 빼먹지 않겠습니다.\n",
      "15 선생님, 다시는 청소를 빼먹지 않겠습니다.\n",
      "16 선생님, 다시는 청소를 빼먹지 않겠습니다.\n",
      "17 선생님, 다시는 청소를 빼먹지 않겠습니다.\n",
      "18 선생님, 다시는 청소를 빼먹지 않겠습니다.\n",
      "19 선생님, 다시는 청소를 빼먹지 않겠습니다.\n"
     ]
    }
   ],
   "source": [
    "for a in range(1, 20):\n",
    "    print(a, '선생님, 다시는 청소를 빼먹지 않겠습니다.')"
   ]
  },
  {
   "cell_type": "code",
   "execution_count": 5,
   "metadata": {},
   "outputs": [
    {
     "name": "stdout",
     "output_type": "stream",
     "text": [
      "1 선생님, 다시는 청소를 빼먹지 않겠습니다.\n",
      "2 선생님, 다시는 청소를 빼먹지 않겠습니다.\n",
      "3 선생님, 다시는 청소를 빼먹지 않겠습니다.\n",
      "4 선생님, 다시는 청소를 빼먹지 않겠습니다.\n",
      "5 선생님, 다시는 청소를 빼먹지 않겠습니다.\n",
      "6 선생님, 다시는 청소를 빼먹지 않겠습니다.\n",
      "7 선생님, 다시는 청소를 빼먹지 않겠습니다.\n",
      "8 선생님, 다시는 청소를 빼먹지 않겠습니다.\n",
      "9 선생님, 다시는 청소를 빼먹지 않겠습니다.\n",
      "10 선생님, 다시는 청소를 빼먹지 않겠습니다.\n",
      "11 선생님, 다시는 청소를 빼먹지 않겠습니다.\n",
      "12 선생님, 다시는 청소를 빼먹지 않겠습니다.\n",
      "13 선생님, 다시는 청소를 빼먹지 않겠습니다.\n",
      "14 선생님, 다시는 청소를 빼먹지 않겠습니다.\n",
      "15 선생님, 다시는 청소를 빼먹지 않겠습니다.\n",
      "16 선생님, 다시는 청소를 빼먹지 않겠습니다.\n",
      "17 선생님, 다시는 청소를 빼먹지 않겠습니다.\n",
      "18 선생님, 다시는 청소를 빼먹지 않겠습니다.\n",
      "19 선생님, 다시는 청소를 빼먹지 않겠습니다.\n",
      "20 선생님, 다시는 청소를 빼먹지 않겠습니다.\n"
     ]
    }
   ],
   "source": [
    "for a in range(0, 20):\n",
    "    print(a + 1, '선생님, 다시는 청소를 빼먹지 않겠습니다.')"
   ]
  },
  {
   "cell_type": "code",
   "execution_count": 6,
   "metadata": {},
   "outputs": [
    {
     "name": "stdout",
     "output_type": "stream",
     "text": [
      "1\n",
      "3\n",
      "5\n",
      "7\n",
      "9\n",
      "11\n",
      "13\n",
      "15\n",
      "17\n",
      "19\n"
     ]
    }
   ],
   "source": [
    "for a in range(1, 20, 2):\n",
    "    print(a)"
   ]
  },
  {
   "cell_type": "code",
   "execution_count": 9,
   "metadata": {},
   "outputs": [
    {
     "name": "stdout",
     "output_type": "stream",
     "text": [
      "1275\n"
     ]
    }
   ],
   "source": [
    "result = 0\n",
    "for a in range(1, 51):\n",
    "    result += a\n",
    "print(result)"
   ]
  },
  {
   "cell_type": "code",
   "execution_count": 10,
   "metadata": {},
   "outputs": [
    {
     "name": "stdout",
     "output_type": "stream",
     "text": [
      "50\n"
     ]
    }
   ],
   "source": [
    "for i in range(1, 51):\n",
    "    result = 0\n",
    "    result += i\n",
    "print(result)"
   ]
  },
  {
   "cell_type": "code",
   "execution_count": 11,
   "metadata": {},
   "outputs": [
    {
     "name": "stdout",
     "output_type": "stream",
     "text": [
      "1520704660085668902180630408303238442218882078448025600000000000000\n"
     ]
    }
   ],
   "source": [
    "for i in range(1, 51):\n",
    "    result *= i\n",
    "print(result)"
   ]
  },
  {
   "cell_type": "code",
   "execution_count": 12,
   "metadata": {},
   "outputs": [
    {
     "name": "stdout",
     "output_type": "stream",
     "text": [
      "몇 단을 외울까요?2\n",
      "2 x 1 = 2\n",
      "2 x 2 = 4\n",
      "2 x 3 = 6\n",
      "2 x 4 = 8\n",
      "2 x 5 = 10\n",
      "2 x 6 = 12\n",
      "2 x 7 = 14\n",
      "2 x 8 = 16\n",
      "2 x 9 = 18\n"
     ]
    }
   ],
   "source": [
    "num = int(input('몇 단을 외울까요?'))\n",
    "for i in range(1, 10):\n",
    "    print(num, 'x', i, '=', num * i)"
   ]
  },
  {
   "cell_type": "code",
   "execution_count": 13,
   "metadata": {},
   "outputs": [
    {
     "data": {
      "text/plain": [
       "0.3402650049492765"
      ]
     },
     "execution_count": 13,
     "metadata": {},
     "output_type": "execute_result"
    }
   ],
   "source": [
    "import random\n",
    "random.random()"
   ]
  },
  {
   "cell_type": "code",
   "execution_count": 14,
   "metadata": {},
   "outputs": [
    {
     "name": "stdout",
     "output_type": "stream",
     "text": [
      "0.3869964343674466\n"
     ]
    }
   ],
   "source": [
    "import random\n",
    "print(random.random())"
   ]
  },
  {
   "cell_type": "code",
   "execution_count": 15,
   "metadata": {},
   "outputs": [
    {
     "name": "stdout",
     "output_type": "stream",
     "text": [
      "7\n"
     ]
    }
   ],
   "source": [
    "import random\n",
    "print(random.randrange(1, 10))"
   ]
  },
  {
   "cell_type": "code",
   "execution_count": 16,
   "metadata": {},
   "outputs": [
    {
     "name": "stdout",
     "output_type": "stream",
     "text": [
      "4\n"
     ]
    }
   ],
   "source": [
    "import random\n",
    "print(random.randrange(1, 10, 3))"
   ]
  },
  {
   "cell_type": "code",
   "execution_count": 17,
   "metadata": {},
   "outputs": [
    {
     "name": "stdout",
     "output_type": "stream",
     "text": [
      "구구단을 외자! 구구단을 외자!\n",
      "7 x 9 ? 63\n",
      "6 x 1 ? 6\n",
      "2 x 8 ? 16\n",
      "3 x 2 ? 6\n",
      "9 x 2 ? 18\n",
      "3 x 3 ? 9\n",
      "3 x 4 ? 12\n",
      "9 x 3 ? 27\n",
      "3 x 2 ? 6\n",
      "7 x 5 ? 35\n"
     ]
    }
   ],
   "source": [
    "import random\n",
    "print('구구단을 외자! 구구단을 외자!')\n",
    "for i in range(10):\n",
    "    a = random.randint(2, 9)\n",
    "    b = random.randint(1, 9)\n",
    "    print(a, 'x', b, '?', a * b)"
   ]
  },
  {
   "cell_type": "code",
   "execution_count": 18,
   "metadata": {},
   "outputs": [
    {
     "name": "stdout",
     "output_type": "stream",
     "text": [
      "10 20\n"
     ]
    }
   ],
   "source": [
    "a, b = 10, 20\n",
    "print(a, b)"
   ]
  },
  {
   "cell_type": "code",
   "execution_count": 20,
   "metadata": {},
   "outputs": [
    {
     "name": "stdout",
     "output_type": "stream",
     "text": [
      "구구단을 외자! 구구단을 외자!\n",
      "3 x 5 ? 15\n",
      "7 x 4 ? 28\n",
      "8 x 1 ? 8\n",
      "7 x 7 ? 49\n",
      "6 x 7 ? 42\n",
      "2 x 6 ? 12\n",
      "4 x 1 ? 4\n",
      "5 x 3 ? 15\n",
      "9 x 3 ? 27\n",
      "5 x 2 ? 10\n"
     ]
    }
   ],
   "source": [
    "import random\n",
    "print('구구단을 외자! 구구단을 외자!')\n",
    "for i in range(10):\n",
    "    a, b = random.randint(2, 9), random.randint(1, 9)\n",
    "    print(a, 'x', b,'?', a*b)"
   ]
  },
  {
   "cell_type": "code",
   "execution_count": 21,
   "metadata": {},
   "outputs": [
    {
     "name": "stdout",
     "output_type": "stream",
     "text": [
      "구구단을 외자! 구구단을 외자!\n",
      "6x1? 6\n",
      "8x2? 16\n",
      "5x5? 25\n",
      "9x8? 72\n",
      "6x3? 18\n",
      "8x2? 16\n",
      "7x1? 7\n",
      "8x7? 56\n",
      "2x8? 16\n",
      "5x9? 45\n"
     ]
    }
   ],
   "source": [
    "import random\n",
    "print('구구단을 외자! 구구단을 외자!')\n",
    "for i in range(10):\n",
    "    a, b = random.randint(2, 9), random.randint(1, 9)\n",
    "    question = str(a) + 'x' + str(b) + '? '\n",
    "    input(question)"
   ]
  },
  {
   "cell_type": "markdown",
   "metadata": {},
   "source": [
    "#### while"
   ]
  },
  {
   "cell_type": "code",
   "execution_count": 23,
   "metadata": {},
   "outputs": [
    {
     "name": "stdout",
     "output_type": "stream",
     "text": [
      "숫자 입력: 2\n",
      "숫자 입력: 3\n",
      "숫자 입력: 4\n",
      "숫자 입력: 5\n",
      "숫자 입력: 6\n",
      "숫자 입력: 7\n",
      "숫자 입력: 8\n",
      "숫자 입력: 9\n",
      "숫자 입력: 10\n"
     ]
    }
   ],
   "source": [
    "num = 0\n",
    "while num < 10:\n",
    "    num = int(input('숫자 입력: '))"
   ]
  },
  {
   "cell_type": "markdown",
   "metadata": {},
   "source": [
    "* for을 while로 바꾸기"
   ]
  },
  {
   "cell_type": "code",
   "execution_count": 25,
   "metadata": {},
   "outputs": [
    {
     "name": "stdout",
     "output_type": "stream",
     "text": [
      "1 선생님, 다시는 청소를 빼먹지 않겠습니다.\n",
      "2 선생님, 다시는 청소를 빼먹지 않겠습니다.\n",
      "3 선생님, 다시는 청소를 빼먹지 않겠습니다.\n",
      "4 선생님, 다시는 청소를 빼먹지 않겠습니다.\n",
      "5 선생님, 다시는 청소를 빼먹지 않겠습니다.\n",
      "6 선생님, 다시는 청소를 빼먹지 않겠습니다.\n",
      "7 선생님, 다시는 청소를 빼먹지 않겠습니다.\n",
      "8 선생님, 다시는 청소를 빼먹지 않겠습니다.\n",
      "9 선생님, 다시는 청소를 빼먹지 않겠습니다.\n",
      "10 선생님, 다시는 청소를 빼먹지 않겠습니다.\n",
      "11 선생님, 다시는 청소를 빼먹지 않겠습니다.\n",
      "12 선생님, 다시는 청소를 빼먹지 않겠습니다.\n",
      "13 선생님, 다시는 청소를 빼먹지 않겠습니다.\n",
      "14 선생님, 다시는 청소를 빼먹지 않겠습니다.\n",
      "15 선생님, 다시는 청소를 빼먹지 않겠습니다.\n",
      "16 선생님, 다시는 청소를 빼먹지 않겠습니다.\n",
      "17 선생님, 다시는 청소를 빼먹지 않겠습니다.\n",
      "18 선생님, 다시는 청소를 빼먹지 않겠습니다.\n",
      "19 선생님, 다시는 청소를 빼먹지 않겠습니다.\n",
      "1 선생님, 다시는 청소를 빼먹지 않겠습니다.\n",
      "2 선생님, 다시는 청소를 빼먹지 않겠습니다.\n",
      "3 선생님, 다시는 청소를 빼먹지 않겠습니다.\n",
      "4 선생님, 다시는 청소를 빼먹지 않겠습니다.\n",
      "5 선생님, 다시는 청소를 빼먹지 않겠습니다.\n",
      "6 선생님, 다시는 청소를 빼먹지 않겠습니다.\n",
      "7 선생님, 다시는 청소를 빼먹지 않겠습니다.\n",
      "8 선생님, 다시는 청소를 빼먹지 않겠습니다.\n",
      "9 선생님, 다시는 청소를 빼먹지 않겠습니다.\n",
      "10 선생님, 다시는 청소를 빼먹지 않겠습니다.\n",
      "11 선생님, 다시는 청소를 빼먹지 않겠습니다.\n",
      "12 선생님, 다시는 청소를 빼먹지 않겠습니다.\n",
      "13 선생님, 다시는 청소를 빼먹지 않겠습니다.\n",
      "14 선생님, 다시는 청소를 빼먹지 않겠습니다.\n",
      "15 선생님, 다시는 청소를 빼먹지 않겠습니다.\n",
      "16 선생님, 다시는 청소를 빼먹지 않겠습니다.\n",
      "17 선생님, 다시는 청소를 빼먹지 않겠습니다.\n",
      "18 선생님, 다시는 청소를 빼먹지 않겠습니다.\n",
      "19 선생님, 다시는 청소를 빼먹지 않겠습니다.\n"
     ]
    }
   ],
   "source": [
    "for i in range(1, 20):\n",
    "    print(i, '선생님, 다시는 청소를 빼먹지 않겠습니다.')\n",
    "    \n",
    "i = 1\n",
    "while i < 20:\n",
    "    print(i, '선생님, 다시는 청소를 빼먹지 않겠습니다.')\n",
    "    i += 1"
   ]
  },
  {
   "cell_type": "markdown",
   "metadata": {},
   "source": [
    "* 구구단 정답이 틀리면 끝"
   ]
  },
  {
   "cell_type": "code",
   "execution_count": 26,
   "metadata": {},
   "outputs": [
    {
     "name": "stdout",
     "output_type": "stream",
     "text": [
      "구구단 문제입니다.\n",
      "5x6? 30\n",
      "5x1? 5\n",
      "8x8? 64\n",
      "5x9? 45\n",
      "5x3? 11\n",
      "틀렸습니다!\n"
     ]
    }
   ],
   "source": [
    "import random\n",
    "\n",
    "print('구구단 문제입니다.')\n",
    "for i in range(10):\n",
    "    a, b = random.randint(2, 9), random.randint(1, 9)\n",
    "    question = str(a) + 'x' + str(b) + '? '\n",
    "    answer = int(input(question))\n",
    "    if answer != a * b:\n",
    "        print('틀렸습니다!')\n",
    "        break\n",
    "    "
   ]
  },
  {
   "cell_type": "code",
   "execution_count": 28,
   "metadata": {},
   "outputs": [
    {
     "name": "stdout",
     "output_type": "stream",
     "text": [
      "1 홀수, 2 짝수, 3 홀수, 4 짝수, 5 홀수, 6 짝수, 7 홀수, 8 짝수, 9 홀수, 10 짝수, 11 홀수, 12 짝수, 13 홀수, 14 짝수, 15 홀수, 16 짝수, 17 홀수, 18 짝수, 19 홀수, 20 짝수, 21 홀수, 22 짝수, 23 홀수, 24 짝수, 25 홀수, 26 짝수, 27 홀수, 28 짝수, 29 홀수, 30 짝수, "
     ]
    }
   ],
   "source": [
    "for i in range(1, 31):\n",
    "    if i % 2 == 1:\n",
    "        print(i, '홀수', end =', ')\n",
    "    elif i % 2 == 0:\n",
    "        print(i, '짝수', end =', ')"
   ]
  },
  {
   "cell_type": "code",
   "execution_count": 29,
   "metadata": {},
   "outputs": [
    {
     "name": "stdout",
     "output_type": "stream",
     "text": [
      "yes\n"
     ]
    }
   ],
   "source": [
    "if '아버지' in '아버지가방에들어가신다.':\n",
    "    print('yes')"
   ]
  },
  {
   "cell_type": "code",
   "execution_count": 31,
   "metadata": {},
   "outputs": [
    {
     "name": "stdout",
     "output_type": "stream",
     "text": [
      "없다.\n"
     ]
    }
   ],
   "source": [
    "if '아버지' not in '아버지가방에들어가신다.':\n",
    "    print('있습니다.')\n",
    "print('없다.')"
   ]
  },
  {
   "cell_type": "code",
   "execution_count": 34,
   "metadata": {
    "scrolled": true
   },
   "outputs": [
    {
     "ename": "TypeError",
     "evalue": "argument of type 'int' is not iterable",
     "output_type": "error",
     "traceback": [
      "\u001b[0;31m---------------------------------------------------------------------------\u001b[0m",
      "\u001b[0;31mTypeError\u001b[0m                                 Traceback (most recent call last)",
      "\u001b[0;32m<ipython-input-34-63f27949bf66>\u001b[0m in \u001b[0;36m<module>\u001b[0;34m\u001b[0m\n\u001b[1;32m      1\u001b[0m \u001b[0;32mfor\u001b[0m \u001b[0mi\u001b[0m \u001b[0;32min\u001b[0m \u001b[0mrange\u001b[0m\u001b[0;34m(\u001b[0m\u001b[0;36m1\u001b[0m\u001b[0;34m,\u001b[0m \u001b[0;36m101\u001b[0m\u001b[0;34m)\u001b[0m\u001b[0;34m:\u001b[0m\u001b[0;34m\u001b[0m\u001b[0;34m\u001b[0m\u001b[0m\n\u001b[0;32m----> 2\u001b[0;31m     \u001b[0;32mif\u001b[0m \u001b[0;36m3\u001b[0m \u001b[0;32min\u001b[0m \u001b[0mi\u001b[0m \u001b[0;32mor\u001b[0m \u001b[0;36m6\u001b[0m \u001b[0;32min\u001b[0m \u001b[0mi\u001b[0m \u001b[0;32mor\u001b[0m \u001b[0;36m9\u001b[0m \u001b[0;32min\u001b[0m \u001b[0mi\u001b[0m\u001b[0;34m:\u001b[0m\u001b[0;34m\u001b[0m\u001b[0;34m\u001b[0m\u001b[0m\n\u001b[0m\u001b[1;32m      3\u001b[0m         \u001b[0mprint\u001b[0m\u001b[0;34m(\u001b[0m\u001b[0;34m'짝!'\u001b[0m\u001b[0;34m,\u001b[0m \u001b[0mend\u001b[0m \u001b[0;34m=\u001b[0m\u001b[0;34m' '\u001b[0m\u001b[0;34m)\u001b[0m\u001b[0;34m\u001b[0m\u001b[0;34m\u001b[0m\u001b[0m\n\u001b[1;32m      4\u001b[0m     \u001b[0;32melse\u001b[0m\u001b[0;34m:\u001b[0m\u001b[0;34m\u001b[0m\u001b[0;34m\u001b[0m\u001b[0m\n\u001b[1;32m      5\u001b[0m         \u001b[0mprint\u001b[0m\u001b[0;34m(\u001b[0m\u001b[0mi\u001b[0m\u001b[0;34m,\u001b[0m \u001b[0mend\u001b[0m \u001b[0;34m=\u001b[0m\u001b[0;34m' '\u001b[0m\u001b[0;34m)\u001b[0m\u001b[0;34m\u001b[0m\u001b[0;34m\u001b[0m\u001b[0m\n",
      "\u001b[0;31mTypeError\u001b[0m: argument of type 'int' is not iterable"
     ]
    }
   ],
   "source": [
    "for i in range(1, 101):\n",
    "    if 3 in i or 6 in i or 9 in i:\n",
    "        print('짝!', end =' ')\n",
    "    else:\n",
    "        print(i, end =' ')"
   ]
  },
  {
   "cell_type": "markdown",
   "metadata": {},
   "source": [
    "위의 에러가 발생한다. int형을 사용해서 생긴 오류"
   ]
  },
  {
   "cell_type": "code",
   "execution_count": 37,
   "metadata": {},
   "outputs": [
    {
     "name": "stdout",
     "output_type": "stream",
     "text": [
      "1 2 짝! 4 5 짝! 7 8 짝! 10 11 12 짝! 14 15 짝! 17 18 짝! 20 21 22 짝! 24 25 짝! 27 28 짝! 짝! 짝! 짝! 짝! 짝! 짝! 짝! 짝! 짝! 짝! 40 41 42 짝! 44 45 짝! 47 48 짝! 50 51 52 짝! 54 55 짝! 57 58 짝! 짝! 짝! 짝! 짝! 짝! 짝! 짝! 짝! 짝! 짝! 70 71 72 짝! 74 75 짝! 77 78 짝! 80 81 82 짝! 84 85 짝! 87 88 짝! 짝! 짝! 짝! 짝! 짝! 짝! 짝! 짝! 짝! 짝! 100 "
     ]
    }
   ],
   "source": [
    "for i in range(1, 101):\n",
    "    if '3' in str(i) or '6' in str(i) or '9' in str(i):\n",
    "        print('짝!', end =' ')\n",
    "    else:\n",
    "        print(i, end =' ')"
   ]
  },
  {
   "cell_type": "code",
   "execution_count": null,
   "metadata": {},
   "outputs": [],
   "source": []
  }
 ],
 "metadata": {
  "kernelspec": {
   "display_name": "Python 3",
   "language": "python",
   "name": "python3"
  },
  "language_info": {
   "codemirror_mode": {
    "name": "ipython",
    "version": 3
   },
   "file_extension": ".py",
   "mimetype": "text/x-python",
   "name": "python",
   "nbconvert_exporter": "python",
   "pygments_lexer": "ipython3",
   "version": "3.7.3"
  }
 },
 "nbformat": 4,
 "nbformat_minor": 2
}
