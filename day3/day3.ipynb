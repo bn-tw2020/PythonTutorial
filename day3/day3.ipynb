{
 "cells": [
  {
   "cell_type": "markdown",
   "metadata": {},
   "source": [
    "## 조건문\n",
    "\n",
    "제어구조는 프로그램의 흐름입니다.\n",
    "제어구조는 총 세가지가 존재합니다. 가장 기본인 순차구조를 전에 학습하였고,\n",
    "순차구조는 위에서 아래로 순서대로 진행되는 구조이며\n",
    "이번 장에선 선택구조를 배운다."
   ]
  },
  {
   "cell_type": "markdown",
   "metadata": {},
   "source": [
    "#### 선택구조\n",
    "\n",
    "특정 조건을 충족하는 경우에만 명령어가 실행될 때, 이를 선택 구조입니다."
   ]
  },
  {
   "cell_type": "code",
   "execution_count": 1,
   "metadata": {},
   "outputs": [
    {
     "name": "stdout",
     "output_type": "stream",
     "text": [
      "성인은 주류를 구매할 수 있습니다.\n"
     ]
    }
   ],
   "source": [
    "age = 23\n",
    "if age > 19:\n",
    "    print(\"성인은 주류를 구매할 수 있습니다.\")"
   ]
  },
  {
   "cell_type": "markdown",
   "metadata": {},
   "source": [
    "파이썬에서는 :와 들여쓰기에 주의를 하면 된다."
   ]
  },
  {
   "cell_type": "code",
   "execution_count": 3,
   "metadata": {},
   "outputs": [
    {
     "name": "stdout",
     "output_type": "stream",
     "text": [
      "미성년자는 주류를 구매할 수 없습니다.\n"
     ]
    }
   ],
   "source": [
    "age = 18\n",
    "if age < 20:\n",
    "    print(\"미성년자는 주류를 구매할 수 없습니다.\")"
   ]
  },
  {
   "cell_type": "code",
   "execution_count": 6,
   "metadata": {},
   "outputs": [
    {
     "name": "stdout",
     "output_type": "stream",
     "text": [
      "나이가 어떻게 되세요?22\n",
      "-2 년 후 성인이 되면 오세요!\n"
     ]
    }
   ],
   "source": [
    "age = int(input('나이가 어떻게 되세요?'))\n",
    "if age < 20:\n",
    "    print(\"미성년자는 주류를 구매할 수 없습니다.\")\n",
    "print(20 - age, '년 후 성인이 되면 오세요!')"
   ]
  },
  {
   "cell_type": "markdown",
   "metadata": {},
   "source": [
    "위의 에러를 주의하기에 들여쓰기를 생각하면됩니다."
   ]
  },
  {
   "cell_type": "code",
   "execution_count": 7,
   "metadata": {},
   "outputs": [
    {
     "name": "stdout",
     "output_type": "stream",
     "text": [
      "나이가 어떻게 되세요?22\n"
     ]
    }
   ],
   "source": [
    "age = int(input('나이가 어떻게 되세요?'))\n",
    "if age < 20:\n",
    "    print(\"미성년자는 주류를 구매할 수 없습니다.\")\n",
    "    print(20 - age, '년 후 성인이 되면 오세요!')"
   ]
  },
  {
   "cell_type": "markdown",
   "metadata": {},
   "source": [
    "#### 비교연산자\n",
    "조건문에서 비교연산자등을 사용하여 상세한 설정이 가능합니다."
   ]
  },
  {
   "cell_type": "code",
   "execution_count": 10,
   "metadata": {},
   "outputs": [
    {
     "name": "stdout",
     "output_type": "stream",
     "text": [
      "Error\n"
     ]
    }
   ],
   "source": [
    "age = 10\n",
    "if age == 20:\n",
    "    print(age)\n",
    "else :\n",
    "    print(\"Error\")"
   ]
  },
  {
   "cell_type": "code",
   "execution_count": 11,
   "metadata": {},
   "outputs": [
    {
     "name": "stdout",
     "output_type": "stream",
     "text": [
      "10\n"
     ]
    }
   ],
   "source": [
    "age = 10\n",
    "if age != 20:\n",
    "    print(age)"
   ]
  },
  {
   "cell_type": "markdown",
   "metadata": {},
   "source": [
    "#### 조건을 충족하지 않을 때는 Else를 이용합니다."
   ]
  },
  {
   "cell_type": "code",
   "execution_count": 13,
   "metadata": {},
   "outputs": [
    {
     "ename": "NameError",
     "evalue": "name 'A' is not defined",
     "output_type": "error",
     "traceback": [
      "\u001b[0;31m---------------------------------------------------------------------------\u001b[0m",
      "\u001b[0;31mNameError\u001b[0m                                 Traceback (most recent call last)",
      "\u001b[0;32m<ipython-input-13-d0970f73f7fd>\u001b[0m in \u001b[0;36m<module>\u001b[0;34m\u001b[0m\n\u001b[0;32m----> 1\u001b[0;31m \u001b[0;32mif\u001b[0m \u001b[0mA\u001b[0m\u001b[0;34m:\u001b[0m \u001b[0;31m#조건\u001b[0m\u001b[0;34m\u001b[0m\u001b[0;34m\u001b[0m\u001b[0m\n\u001b[0m\u001b[1;32m      2\u001b[0m     \u001b[0mB\u001b[0m \u001b[0;31m# 조건을 충족할 때 실행할 내용\u001b[0m\u001b[0;34m\u001b[0m\u001b[0;34m\u001b[0m\u001b[0m\n\u001b[1;32m      3\u001b[0m \u001b[0;32melse\u001b[0m\u001b[0;34m:\u001b[0m\u001b[0;34m\u001b[0m\u001b[0;34m\u001b[0m\u001b[0m\n\u001b[1;32m      4\u001b[0m     \u001b[0mC\u001b[0m \u001b[0;31m# 조건을 충족하지 않을 때 실행할 내용\u001b[0m\u001b[0;34m\u001b[0m\u001b[0;34m\u001b[0m\u001b[0m\n",
      "\u001b[0;31mNameError\u001b[0m: name 'A' is not defined"
     ]
    }
   ],
   "source": [
    "if A: #조건\n",
    "    B # 조건을 충족할 때 실행할 내용\n",
    "else:\n",
    "    C # 조건을 충족하지 않을 때 실행할 내용"
   ]
  },
  {
   "cell_type": "code",
   "execution_count": 15,
   "metadata": {},
   "outputs": [
    {
     "name": "stdout",
     "output_type": "stream",
     "text": [
      "미세먼지 절감 조치에 따른 차량 2부제를 시행합니다!\n",
      "오늘은 며칠입니까?20\n",
      "짝수번호 차량만 통행 가능합니다.\n",
      "홀수번호 차주는 오늘 대중교통을 이용해주세요,\n"
     ]
    }
   ],
   "source": [
    "print('미세먼지 절감 조치에 따른 차량 2부제를 시행합니다!')\n",
    "\n",
    "date = int(input('오늘은 며칠입니까?'))\n",
    "\n",
    "if date % 2 == 1:\n",
    "    print('홀수번호 차량만 통행 가능합니다.')\n",
    "    print('짝수번호 차주는 오늘 대중교통을 이용해주세요,')\n",
    "else:\n",
    "    print('짝수번호 차량만 통행 가능합니다.')\n",
    "    print('홀수번호 차주는 오늘 대중교통을 이용해주세요,')"
   ]
  },
  {
   "cell_type": "code",
   "execution_count": 17,
   "metadata": {},
   "outputs": [
    {
     "name": "stdout",
     "output_type": "stream",
     "text": [
      "나이가 어떻게 되세요?22\n",
      "성인은 15,000원입니다.\n",
      "입장료를 넣어주세요 --> 14000\n",
      "1000 원을 더 내야 합니다.\n"
     ]
    }
   ],
   "source": [
    "age = int(input('나이가 어떻게 되세요?'))\n",
    "if age >= 20:\n",
    "    print('성인은 15,000원입니다.')\n",
    "    price = 15000\n",
    "else:\n",
    "    print('미성년자는 6,000원입니다.')\n",
    "    price = 6000\n",
    "    \n",
    "price_input = int(input('입장료를 넣어주세요 --> '))\n",
    "if(price_input < price):\n",
    "    print(price - price_input, '원을 더 내야 합니다.')\n",
    "else:\n",
    "    print(price_input - price, '원을 거슬러 드리겠습니다.')"
   ]
  },
  {
   "cell_type": "markdown",
   "metadata": {},
   "source": [
    "#### 조건이 여러 개 일때 elif"
   ]
  },
  {
   "cell_type": "markdown",
   "metadata": {},
   "source": [
    "c, c++, java에서 사용되는 else if가 파이썬에서는 elif 입니다."
   ]
  },
  {
   "cell_type": "code",
   "execution_count": 18,
   "metadata": {},
   "outputs": [
    {
     "ename": "NameError",
     "evalue": "name 'A' is not defined",
     "output_type": "error",
     "traceback": [
      "\u001b[0;31m---------------------------------------------------------------------------\u001b[0m",
      "\u001b[0;31mNameError\u001b[0m                                 Traceback (most recent call last)",
      "\u001b[0;32m<ipython-input-18-fc9d402acdf4>\u001b[0m in \u001b[0;36m<module>\u001b[0;34m\u001b[0m\n\u001b[0;32m----> 1\u001b[0;31m \u001b[0;32mif\u001b[0m \u001b[0mA\u001b[0m\u001b[0;34m:\u001b[0m \u001b[0;31m# 조건\u001b[0m\u001b[0;34m\u001b[0m\u001b[0;34m\u001b[0m\u001b[0m\n\u001b[0m\u001b[1;32m      2\u001b[0m     \u001b[0mB\u001b[0m \u001b[0;31m# 조건 A를 충족할 때 실행할 내용\u001b[0m\u001b[0;34m\u001b[0m\u001b[0;34m\u001b[0m\u001b[0m\n\u001b[1;32m      3\u001b[0m \u001b[0;32melif\u001b[0m \u001b[0mC\u001b[0m\u001b[0;34m:\u001b[0m \u001b[0;31m# 조건\u001b[0m\u001b[0;34m\u001b[0m\u001b[0;34m\u001b[0m\u001b[0m\n\u001b[1;32m      4\u001b[0m     \u001b[0mD\u001b[0m \u001b[0;31m# 조건 A를 충족하지 않고 C를 충족할 때 실행할 내용\u001b[0m\u001b[0;34m\u001b[0m\u001b[0;34m\u001b[0m\u001b[0m\n\u001b[1;32m      5\u001b[0m \u001b[0;32melse\u001b[0m\u001b[0;34m:\u001b[0m\u001b[0;34m\u001b[0m\u001b[0;34m\u001b[0m\u001b[0m\n",
      "\u001b[0;31mNameError\u001b[0m: name 'A' is not defined"
     ]
    }
   ],
   "source": [
    "if A: # 조건\n",
    "    B # 조건 A를 충족할 때 실행할 내용\n",
    "elif C: # 조건\n",
    "    D # 조건 A를 충족하지 않고 C를 충족할 때 실행할 내용\n",
    "else:\n",
    "    E # 조건 A, C를 모두 충족하지 않을 때 실행할 내용"
   ]
  },
  {
   "cell_type": "code",
   "execution_count": 23,
   "metadata": {},
   "outputs": [
    {
     "name": "stdout",
     "output_type": "stream",
     "text": [
      "구매금액은? 20000\n",
      "배송비 2,500원 추가됩니다.\n",
      "최종 결제금액은 22500 원 입니다.\n"
     ]
    }
   ],
   "source": [
    "price = int(input('구매금액은? '))\n",
    "\n",
    "if price < 20000:\n",
    "    print('새벽 배송이 안됩니다.')\n",
    "elif price < 50000:\n",
    "    print('배송비 2,500원 추가됩니다.')\n",
    "    price += 2500\n",
    "else:\n",
    "    print('무료 배송됩니다.')\n",
    "\n",
    "print('최종 결제금액은', price, '원 입니다.')"
   ]
  },
  {
   "cell_type": "code",
   "execution_count": 24,
   "metadata": {},
   "outputs": [
    {
     "name": "stdout",
     "output_type": "stream",
     "text": [
      "오늘은 며칠입니까? 21\n",
      "홀수번호 차량만 통행 가능\n",
      "짝수번호 차주는 오늘 대중교통 이용\n"
     ]
    }
   ],
   "source": [
    "date = int(input('오늘은 며칠입니까? '))\n",
    "if date <= 31:\n",
    "    if date % 2 == 1:\n",
    "        print('홀수번호 차량만 통행 가능')\n",
    "        print('짝수번호 차주는 오늘 대중교통 이용')\n",
    "    else:\n",
    "        print('짝수번호 차량만 통행 가능')\n",
    "        print('홀수번호 차주는 오늘 대중교통 이용')\n",
    "else:\n",
    "    print('올바른 날짜를 입력해주세요')"
   ]
  },
  {
   "cell_type": "code",
   "execution_count": 26,
   "metadata": {},
   "outputs": [
    {
     "name": "stdout",
     "output_type": "stream",
     "text": [
      "구매 금액은? 2000000\n",
      "마케팅 이용약관에 동의했습니까? (Y/N)Y\n",
      "사은품 지급 대상입니다.\n"
     ]
    }
   ],
   "source": [
    "consumption = int(input('구매 금액은? '))\n",
    "marketing_yn = input('마케팅 이용약관에 동의했습니까? (Y/N)')\n",
    "\n",
    "if consumption >= 100000 and marketing_yn == 'Y':\n",
    "    print('사은품 지급 대상입니다.')\n",
    "else:\n",
    "    print('사은품 지급 대상이 아닙니다.')"
   ]
  },
  {
   "cell_type": "markdown",
   "metadata": {},
   "source": [
    "* A and B\n",
    "    * 여러 조건을 동시에 충족하기에 사용합니다"
   ]
  },
  {
   "cell_type": "code",
   "execution_count": 28,
   "metadata": {},
   "outputs": [
    {
     "name": "stdout",
     "output_type": "stream",
     "text": [
      "구매 금액은? 5000\n",
      "마케팅 이용약관에 동의했습니까? (Y/N)Y\n",
      "무료주차 대상입니다.\n"
     ]
    }
   ],
   "source": [
    "consumption = int(input('구매 금액은? '))\n",
    "marketing_yn = input('마케팅 이용약관에 동의했습니까? (Y/N)')\n",
    "\n",
    "if consumption >= 100000 or marketing_yn == 'Y':\n",
    "    print('무료주차 대상입니다.')\n",
    "else:\n",
    "    print('무료주차 대상이 아닙니다.')"
   ]
  },
  {
   "cell_type": "markdown",
   "metadata": {},
   "source": [
    "* A or B\n",
    "    * 여러 조건 중 한가지만 충족해도 되는 조건에 들어갑니다."
   ]
  },
  {
   "cell_type": "markdown",
   "metadata": {},
   "source": [
    "* 제어구조는 프로그램의 흐름이자 프로그램 안에서 명령어가 실행되는 순서\n",
    "    * 순차구조 : 위에서 아래의 순서로 실행되는 구조\n",
    "    * 선택구조 : 조건 충족 여부에 따라 실행할 명령어가 달라지는 구조"
   ]
  },
  {
   "cell_type": "code",
   "execution_count": null,
   "metadata": {},
   "outputs": [],
   "source": []
  }
 ],
 "metadata": {
  "kernelspec": {
   "display_name": "Python 3",
   "language": "python",
   "name": "python3"
  },
  "language_info": {
   "codemirror_mode": {
    "name": "ipython",
    "version": 3
   },
   "file_extension": ".py",
   "mimetype": "text/x-python",
   "name": "python",
   "nbconvert_exporter": "python",
   "pygments_lexer": "ipython3",
   "version": "3.7.3"
  }
 },
 "nbformat": 4,
 "nbformat_minor": 2
}
